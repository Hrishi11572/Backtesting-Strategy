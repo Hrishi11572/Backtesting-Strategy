{
 "cells": [
  {
   "cell_type": "markdown",
   "id": "c4501841",
   "metadata": {},
   "source": [
    "# Variation A : Change Holding Period\n",
    "\n",
    "try holding money for 15 days (short term)\n",
    "and then for 60 or 90 days (medium term)\n",
    "\n",
    "Question : Does a longer hold give more consistent results ? "
   ]
  },
  {
   "cell_type": "markdown",
   "id": "10631d37",
   "metadata": {},
   "source": [
    "# Doing for 15 days "
   ]
  },
  {
   "cell_type": "code",
   "execution_count": 1,
   "id": "cf478dc8",
   "metadata": {},
   "outputs": [],
   "source": [
    "import pandas as pd \n",
    "import yfinance as yf \n",
    "from datetime import timedelta\n",
    "from pandas import DatetimeIndex"
   ]
  },
  {
   "cell_type": "code",
   "execution_count": null,
   "id": "f84db105",
   "metadata": {},
   "outputs": [
    {
     "name": "stderr",
     "output_type": "stream",
     "text": [
      "/var/folders/s0/9txpn9vj4gl5nq6jwlhnp3m00000gn/T/ipykernel_21410/1781131914.py:8: UserWarning: Could not infer format, so each element will be parsed individually, falling back to `dateutil`. To ensure parsing is consistent and as-expected, please specify a format.\n",
      "  df[\"trade_date\"] = pd.to_datetime(df[\"trade_date\"], errors=\"coerce\")\n"
     ]
    },
    {
     "name": "stdout",
     "output_type": "stream",
     "text": [
      "🔍 Running backtest on 5427 trades...\n",
      "\n"
     ]
    },
    {
     "name": "stderr",
     "output_type": "stream",
     "text": [
      "$ADOR.NS: possibly delisted; no price data found  (1d 2024-12-19 00:00:00 -> 2025-01-12 00:00:00) (Yahoo error = \"Data doesn't exist for startDate = 1734546600, endDate = 1736620200\")\n",
      "$ADOR.NS: possibly delisted; no price data found  (1d 2024-12-19 00:00:00 -> 2025-01-12 00:00:00) (Yahoo error = \"Data doesn't exist for startDate = 1734546600, endDate = 1736620200\")\n"
     ]
    },
    {
     "name": "stdout",
     "output_type": "stream",
     "text": [
      "⚠️ No price data for ADOR.NS\n",
      "⚠️ No price data for ADOR.NS\n"
     ]
    },
    {
     "name": "stderr",
     "output_type": "stream",
     "text": [
      "$ARHAM.NS: possibly delisted; no timezone found\n"
     ]
    },
    {
     "name": "stdout",
     "output_type": "stream",
     "text": [
      "⚠️ No price data for ARHAM.NS\n"
     ]
    },
    {
     "name": "stderr",
     "output_type": "stream",
     "text": [
      "$ASHALOG.NS: possibly delisted; no timezone found\n"
     ]
    },
    {
     "name": "stdout",
     "output_type": "stream",
     "text": [
      "⚠️ No price data for ASHALOG.NS\n"
     ]
    },
    {
     "name": "stderr",
     "output_type": "stream",
     "text": [
      "$USHAFIN.NS: possibly delisted; no timezone found\n",
      "$USHAFIN.NS: possibly delisted; no timezone found\n"
     ]
    },
    {
     "name": "stdout",
     "output_type": "stream",
     "text": [
      "⚠️ No price data for USHAFIN.NS\n",
      "⚠️ No price data for USHAFIN.NS\n"
     ]
    },
    {
     "name": "stderr",
     "output_type": "stream",
     "text": [
      "$DIVYADHAN.NS: possibly delisted; no timezone found\n",
      "$USHAFIN.NS: possibly delisted; no timezone found\n"
     ]
    },
    {
     "name": "stdout",
     "output_type": "stream",
     "text": [
      "⚠️ No price data for DIVYADHAN.NS\n",
      "⚠️ No price data for USHAFIN.NS\n"
     ]
    },
    {
     "name": "stderr",
     "output_type": "stream",
     "text": [
      "$ADOR.NS: possibly delisted; no price data found  (1d 2024-09-26 00:00:00 -> 2024-10-20 00:00:00) (Yahoo error = \"Data doesn't exist for startDate = 1727289000, endDate = 1729362600\")\n",
      "$ADOR.NS: possibly delisted; no price data found  (1d 2024-09-26 00:00:00 -> 2024-10-20 00:00:00) (Yahoo error = \"Data doesn't exist for startDate = 1727289000, endDate = 1729362600\")\n",
      "$ADOR.NS: possibly delisted; no price data found  (1d 2024-09-26 00:00:00 -> 2024-10-20 00:00:00) (Yahoo error = \"Data doesn't exist for startDate = 1727289000, endDate = 1729362600\")\n"
     ]
    },
    {
     "name": "stdout",
     "output_type": "stream",
     "text": [
      "⚠️ No price data for ADOR.NS\n",
      "⚠️ No price data for ADOR.NS\n",
      "⚠️ No price data for ADOR.NS\n"
     ]
    },
    {
     "name": "stderr",
     "output_type": "stream",
     "text": [
      "$EXCELLENT.NS: possibly delisted; no timezone found\n",
      "$EXCELLENT.NS: possibly delisted; no timezone found\n"
     ]
    },
    {
     "name": "stdout",
     "output_type": "stream",
     "text": [
      "⚠️ No price data for EXCELLENT.NS\n",
      "⚠️ No price data for EXCELLENT.NS\n"
     ]
    },
    {
     "name": "stderr",
     "output_type": "stream",
     "text": [
      "$SUNDROP.NS: possibly delisted; no price data found  (1d 2024-09-13 00:00:00 -> 2024-10-07 00:00:00) (Yahoo error = \"Data doesn't exist for startDate = 1726165800, endDate = 1728239400\")\n"
     ]
    },
    {
     "name": "stdout",
     "output_type": "stream",
     "text": [
      "⚠️ No price data for SUNDROP.NS\n"
     ]
    },
    {
     "name": "stderr",
     "output_type": "stream",
     "text": [
      "$ADOR.NS: possibly delisted; no price data found  (1d 2024-06-06 00:00:00 -> 2024-06-30 00:00:00) (Yahoo error = \"Data doesn't exist for startDate = 1717612200, endDate = 1719685800\")\n"
     ]
    },
    {
     "name": "stdout",
     "output_type": "stream",
     "text": [
      "⚠️ No price data for ADOR.NS\n"
     ]
    },
    {
     "name": "stderr",
     "output_type": "stream",
     "text": [
      "$ADOR.NS: possibly delisted; no price data found  (1d 2024-06-03 00:00:00 -> 2024-06-27 00:00:00) (Yahoo error = \"Data doesn't exist for startDate = 1717353000, endDate = 1719426600\")\n"
     ]
    },
    {
     "name": "stdout",
     "output_type": "stream",
     "text": [
      "⚠️ No price data for ADOR.NS\n"
     ]
    },
    {
     "name": "stderr",
     "output_type": "stream",
     "text": [
      "$ALLDIGI.NS: possibly delisted; no price data found  (1d 2024-02-25 00:00:00 -> 2024-03-20 00:00:00) (Yahoo error = \"Data doesn't exist for startDate = 1708799400, endDate = 1710873000\")\n"
     ]
    },
    {
     "name": "stdout",
     "output_type": "stream",
     "text": [
      "⚠️ No price data for ALLDIGI.NS\n"
     ]
    },
    {
     "name": "stderr",
     "output_type": "stream",
     "text": [
      "$ACUTAAS.NS: possibly delisted; no price data found  (1d 2023-12-23 00:00:00 -> 2024-01-16 00:00:00) (Yahoo error = \"Data doesn't exist for startDate = 1703269800, endDate = 1705343400\")\n"
     ]
    },
    {
     "name": "stdout",
     "output_type": "stream",
     "text": [
      "⚠️ No price data for ACUTAAS.NS\n"
     ]
    },
    {
     "name": "stderr",
     "output_type": "stream",
     "text": [
      "$ISMTLTD.NS: possibly delisted; no timezone found\n"
     ]
    },
    {
     "name": "stdout",
     "output_type": "stream",
     "text": [
      "⚠️ No price data for ISMTLTD.NS\n"
     ]
    },
    {
     "name": "stderr",
     "output_type": "stream",
     "text": [
      "$ISMTLTD.NS: possibly delisted; no timezone found\n"
     ]
    },
    {
     "name": "stdout",
     "output_type": "stream",
     "text": [
      "⚠️ No price data for ISMTLTD.NS\n"
     ]
    },
    {
     "name": "stderr",
     "output_type": "stream",
     "text": [
      "$ISMTLTD.NS: possibly delisted; no timezone found\n"
     ]
    },
    {
     "name": "stdout",
     "output_type": "stream",
     "text": [
      "⚠️ No price data for ISMTLTD.NS\n"
     ]
    },
    {
     "name": "stderr",
     "output_type": "stream",
     "text": [
      "$AEGISLOG.NS: possibly delisted; no price data found  (1d 2023-09-23 00:00:00 -> 2023-10-17 00:00:00) (Yahoo error = \"Data doesn't exist for startDate = 1695407400, endDate = 1697481000\")\n",
      "$AEGISLOG.NS: possibly delisted; no price data found  (1d 2023-09-23 00:00:00 -> 2023-10-17 00:00:00) (Yahoo error = \"Data doesn't exist for startDate = 1695407400, endDate = 1697481000\")\n"
     ]
    },
    {
     "name": "stdout",
     "output_type": "stream",
     "text": [
      "⚠️ No price data for AEGISLOG.NS\n",
      "⚠️ No price data for AEGISLOG.NS\n"
     ]
    },
    {
     "name": "stderr",
     "output_type": "stream",
     "text": [
      "$LTFOODS.NS: possibly delisted; no price data found  (1d 2023-09-07 00:00:00 -> 2023-10-01 00:00:00) (Yahoo error = \"Data doesn't exist for startDate = 1694025000, endDate = 1696098600\")\n"
     ]
    },
    {
     "name": "stdout",
     "output_type": "stream",
     "text": [
      "⚠️ No price data for LTFOODS.NS\n"
     ]
    },
    {
     "name": "stderr",
     "output_type": "stream",
     "text": [
      "$JUBLINDS.NS: possibly delisted; no timezone found\n"
     ]
    },
    {
     "name": "stdout",
     "output_type": "stream",
     "text": [
      "⚠️ No price data for JUBLINDS.NS\n"
     ]
    },
    {
     "name": "stderr",
     "output_type": "stream",
     "text": [
      "$AEGISLOG.NS: possibly delisted; no price data found  (1d 2023-06-19 00:00:00 -> 2023-07-13 00:00:00) (Yahoo error = \"Data doesn't exist for startDate = 1687113000, endDate = 1689186600\")\n"
     ]
    },
    {
     "name": "stdout",
     "output_type": "stream",
     "text": [
      "⚠️ No price data for AEGISLOG.NS\n"
     ]
    },
    {
     "name": "stderr",
     "output_type": "stream",
     "text": [
      "$EPIGRAL.NS: possibly delisted; no price data found  (1d 2023-06-01 00:00:00 -> 2023-06-25 00:00:00) (Yahoo error = \"Data doesn't exist for startDate = 1685557800, endDate = 1687631400\")\n"
     ]
    },
    {
     "name": "stdout",
     "output_type": "stream",
     "text": [
      "⚠️ No price data for EPIGRAL.NS\n"
     ]
    },
    {
     "name": "stderr",
     "output_type": "stream",
     "text": [
      "$AEGISLOG.NS: possibly delisted; no price data found  (1d 2023-06-01 00:00:00 -> 2023-06-25 00:00:00) (Yahoo error = \"Data doesn't exist for startDate = 1685557800, endDate = 1687631400\")\n"
     ]
    },
    {
     "name": "stdout",
     "output_type": "stream",
     "text": [
      "⚠️ No price data for AEGISLOG.NS\n"
     ]
    },
    {
     "name": "stderr",
     "output_type": "stream",
     "text": [
      "$EPIGRAL.NS: possibly delisted; no price data found  (1d 2023-05-26 00:00:00 -> 2023-06-19 00:00:00) (Yahoo error = \"Data doesn't exist for startDate = 1685039400, endDate = 1687113000\")\n"
     ]
    },
    {
     "name": "stdout",
     "output_type": "stream",
     "text": [
      "⚠️ No price data for EPIGRAL.NS\n"
     ]
    },
    {
     "name": "stderr",
     "output_type": "stream",
     "text": [
      "$EPIGRAL.NS: possibly delisted; no price data found  (1d 2023-03-12 00:00:00 -> 2023-04-05 00:00:00) (Yahoo error = \"Data doesn't exist for startDate = 1678559400, endDate = 1680633000\")\n"
     ]
    },
    {
     "name": "stdout",
     "output_type": "stream",
     "text": [
      "⚠️ No price data for EPIGRAL.NS\n"
     ]
    },
    {
     "name": "stderr",
     "output_type": "stream",
     "text": [
      "$EPIGRAL.NS: possibly delisted; no price data found  (1d 2023-03-11 00:00:00 -> 2023-04-04 00:00:00) (Yahoo error = \"Data doesn't exist for startDate = 1678473000, endDate = 1680546600\")\n"
     ]
    },
    {
     "name": "stdout",
     "output_type": "stream",
     "text": [
      "⚠️ No price data for EPIGRAL.NS\n"
     ]
    },
    {
     "name": "stderr",
     "output_type": "stream",
     "text": [
      "$EPIGRAL.NS: possibly delisted; no price data found  (1d 2023-03-10 00:00:00 -> 2023-04-03 00:00:00) (Yahoo error = \"Data doesn't exist for startDate = 1678386600, endDate = 1680460200\")\n"
     ]
    },
    {
     "name": "stdout",
     "output_type": "stream",
     "text": [
      "⚠️ No price data for EPIGRAL.NS\n"
     ]
    },
    {
     "name": "stderr",
     "output_type": "stream",
     "text": [
      "$EPIGRAL.NS: possibly delisted; no price data found  (1d 2023-02-20 00:00:00 -> 2023-03-16 00:00:00) (Yahoo error = \"Data doesn't exist for startDate = 1676831400, endDate = 1678905000\")\n"
     ]
    },
    {
     "name": "stdout",
     "output_type": "stream",
     "text": [
      "⚠️ No price data for EPIGRAL.NS\n"
     ]
    },
    {
     "name": "stderr",
     "output_type": "stream",
     "text": [
      "$EPIGRAL.NS: possibly delisted; no price data found  (1d 2023-02-24 00:00:00 -> 2023-03-20 00:00:00) (Yahoo error = \"Data doesn't exist for startDate = 1677177000, endDate = 1679250600\")\n"
     ]
    },
    {
     "name": "stdout",
     "output_type": "stream",
     "text": [
      "⚠️ No price data for EPIGRAL.NS\n"
     ]
    },
    {
     "name": "stderr",
     "output_type": "stream",
     "text": [
      "$EPIGRAL.NS: possibly delisted; no price data found  (1d 2023-02-23 00:00:00 -> 2023-03-19 00:00:00) (Yahoo error = \"Data doesn't exist for startDate = 1677090600, endDate = 1679164200\")\n"
     ]
    },
    {
     "name": "stdout",
     "output_type": "stream",
     "text": [
      "⚠️ No price data for EPIGRAL.NS\n"
     ]
    },
    {
     "name": "stderr",
     "output_type": "stream",
     "text": [
      "$EPIGRAL.NS: possibly delisted; no price data found  (1d 2023-02-17 00:00:00 -> 2023-03-13 00:00:00) (Yahoo error = \"Data doesn't exist for startDate = 1676572200, endDate = 1678645800\")\n"
     ]
    },
    {
     "name": "stdout",
     "output_type": "stream",
     "text": [
      "⚠️ No price data for EPIGRAL.NS\n"
     ]
    },
    {
     "name": "stderr",
     "output_type": "stream",
     "text": [
      "$EPIGRAL.NS: possibly delisted; no price data found  (1d 2023-02-12 00:00:00 -> 2023-03-08 00:00:00) (Yahoo error = \"Data doesn't exist for startDate = 1676140200, endDate = 1678213800\")\n"
     ]
    },
    {
     "name": "stdout",
     "output_type": "stream",
     "text": [
      "⚠️ No price data for EPIGRAL.NS\n"
     ]
    },
    {
     "name": "stderr",
     "output_type": "stream",
     "text": [
      "$EPIGRAL.NS: possibly delisted; no price data found  (1d 2023-02-11 00:00:00 -> 2023-03-07 00:00:00) (Yahoo error = \"Data doesn't exist for startDate = 1676053800, endDate = 1678127400\")\n",
      "$EPIGRAL.NS: possibly delisted; no price data found  (1d 2023-02-11 00:00:00 -> 2023-03-07 00:00:00) (Yahoo error = \"Data doesn't exist for startDate = 1676053800, endDate = 1678127400\")\n"
     ]
    },
    {
     "name": "stdout",
     "output_type": "stream",
     "text": [
      "⚠️ No price data for EPIGRAL.NS\n",
      "⚠️ No price data for EPIGRAL.NS\n"
     ]
    },
    {
     "name": "stderr",
     "output_type": "stream",
     "text": [
      "$EPIGRAL.NS: possibly delisted; no price data found  (1d 2023-02-10 00:00:00 -> 2023-03-06 00:00:00) (Yahoo error = \"Data doesn't exist for startDate = 1675967400, endDate = 1678041000\")\n"
     ]
    },
    {
     "name": "stdout",
     "output_type": "stream",
     "text": [
      "⚠️ No price data for EPIGRAL.NS\n"
     ]
    },
    {
     "name": "stderr",
     "output_type": "stream",
     "text": [
      "$EPIGRAL.NS: possibly delisted; no price data found  (1d 2023-01-21 00:00:00 -> 2023-02-14 00:00:00) (Yahoo error = \"Data doesn't exist for startDate = 1674239400, endDate = 1676313000\")\n"
     ]
    },
    {
     "name": "stdout",
     "output_type": "stream",
     "text": [
      "⚠️ No price data for EPIGRAL.NS\n"
     ]
    },
    {
     "name": "stderr",
     "output_type": "stream",
     "text": [
      "$ISMTLTD.NS: possibly delisted; no timezone found\n"
     ]
    },
    {
     "name": "stdout",
     "output_type": "stream",
     "text": [
      "⚠️ No price data for ISMTLTD.NS\n"
     ]
    },
    {
     "name": "stderr",
     "output_type": "stream",
     "text": [
      "$CONFIPET.NS: possibly delisted; no price data found  (1d 2020-09-18 00:00:00 -> 2020-10-12 00:00:00) (Yahoo error = \"Data doesn't exist for startDate = 1600367400, endDate = 1602441000\")\n"
     ]
    },
    {
     "name": "stdout",
     "output_type": "stream",
     "text": [
      "⚠️ No price data for CONFIPET.NS\n"
     ]
    },
    {
     "name": "stderr",
     "output_type": "stream",
     "text": [
      "$UJJIVAN.NS: possibly delisted; no timezone found\n"
     ]
    },
    {
     "name": "stdout",
     "output_type": "stream",
     "text": [
      "⚠️ No price data for UJJIVAN.NS\n"
     ]
    },
    {
     "name": "stderr",
     "output_type": "stream",
     "text": [
      "$UJJIVAN.NS: possibly delisted; no timezone found\n"
     ]
    },
    {
     "name": "stdout",
     "output_type": "stream",
     "text": [
      "⚠️ No price data for UJJIVAN.NS\n"
     ]
    },
    {
     "name": "stderr",
     "output_type": "stream",
     "text": [
      "$UJJIVAN.NS: possibly delisted; no timezone found\n"
     ]
    },
    {
     "name": "stdout",
     "output_type": "stream",
     "text": [
      "⚠️ No price data for UJJIVAN.NS\n"
     ]
    },
    {
     "name": "stderr",
     "output_type": "stream",
     "text": [
      "$UJJIVAN.NS: possibly delisted; no timezone found\n"
     ]
    },
    {
     "name": "stdout",
     "output_type": "stream",
     "text": [
      "⚠️ No price data for UJJIVAN.NS\n"
     ]
    },
    {
     "name": "stderr",
     "output_type": "stream",
     "text": [
      "$UJJIVAN.NS: possibly delisted; no timezone found\n"
     ]
    },
    {
     "name": "stdout",
     "output_type": "stream",
     "text": [
      "⚠️ No price data for UJJIVAN.NS\n"
     ]
    },
    {
     "name": "stderr",
     "output_type": "stream",
     "text": [
      "$IDFC.NS: possibly delisted; no timezone found\n"
     ]
    },
    {
     "name": "stdout",
     "output_type": "stream",
     "text": [
      "⚠️ No price data for IDFC.NS\n"
     ]
    },
    {
     "name": "stderr",
     "output_type": "stream",
     "text": [
      "$JUBLINDS.NS: possibly delisted; no timezone found\n"
     ]
    },
    {
     "name": "stdout",
     "output_type": "stream",
     "text": [
      "⚠️ No price data for JUBLINDS.NS\n"
     ]
    },
    {
     "name": "stderr",
     "output_type": "stream",
     "text": [
      "$RANEENGINE.NS: possibly delisted; no price data found  (1d 2022-06-12 00:00:00 -> 2022-07-06 00:00:00)\n"
     ]
    },
    {
     "name": "stdout",
     "output_type": "stream",
     "text": [
      "⚠️ No price data for RANEENGINE.NS\n"
     ]
    },
    {
     "name": "stderr",
     "output_type": "stream",
     "text": [
      "$SHRIRAMCIT.NS: possibly delisted; no timezone found\n",
      "$SHRIRAMCIT.NS: possibly delisted; no timezone found\n"
     ]
    },
    {
     "name": "stdout",
     "output_type": "stream",
     "text": [
      "⚠️ No price data for SHRIRAMCIT.NS\n",
      "⚠️ No price data for SHRIRAMCIT.NS\n"
     ]
    },
    {
     "name": "stderr",
     "output_type": "stream",
     "text": [
      "$SHRIRAMCIT.NS: possibly delisted; no timezone found\n",
      "$SHRIRAMCIT.NS: possibly delisted; no timezone found\n"
     ]
    },
    {
     "name": "stdout",
     "output_type": "stream",
     "text": [
      "⚠️ No price data for SHRIRAMCIT.NS\n",
      "⚠️ No price data for SHRIRAMCIT.NS\n"
     ]
    },
    {
     "name": "stderr",
     "output_type": "stream",
     "text": [
      "$RANEENGINE.NS: possibly delisted; no price data found  (1d 2022-06-03 00:00:00 -> 2022-06-27 00:00:00)\n"
     ]
    },
    {
     "name": "stdout",
     "output_type": "stream",
     "text": [
      "⚠️ No price data for RANEENGINE.NS\n"
     ]
    },
    {
     "name": "stderr",
     "output_type": "stream",
     "text": [
      "$SHRIRAMCIT.NS: possibly delisted; no timezone found\n",
      "$SHRIRAMCIT.NS: possibly delisted; no timezone found\n"
     ]
    },
    {
     "name": "stdout",
     "output_type": "stream",
     "text": [
      "⚠️ No price data for SHRIRAMCIT.NS\n",
      "⚠️ No price data for SHRIRAMCIT.NS\n"
     ]
    },
    {
     "name": "stderr",
     "output_type": "stream",
     "text": [
      "$RANEENGINE.NS: possibly delisted; no price data found  (1d 2022-05-29 00:00:00 -> 2022-06-22 00:00:00)\n"
     ]
    },
    {
     "name": "stdout",
     "output_type": "stream",
     "text": [
      "⚠️ No price data for RANEENGINE.NS\n"
     ]
    },
    {
     "name": "stderr",
     "output_type": "stream",
     "text": [
      "$SHRIRAMCIT.NS: possibly delisted; no timezone found\n",
      "$SHRIRAMCIT.NS: possibly delisted; no timezone found\n"
     ]
    },
    {
     "name": "stdout",
     "output_type": "stream",
     "text": [
      "⚠️ No price data for SHRIRAMCIT.NS\n",
      "⚠️ No price data for SHRIRAMCIT.NS\n"
     ]
    },
    {
     "name": "stderr",
     "output_type": "stream",
     "text": [
      "$SHRIRAMCIT.NS: possibly delisted; no timezone found\n",
      "$SHRIRAMCIT.NS: possibly delisted; no timezone found\n"
     ]
    },
    {
     "name": "stdout",
     "output_type": "stream",
     "text": [
      "⚠️ No price data for SHRIRAMCIT.NS\n",
      "⚠️ No price data for SHRIRAMCIT.NS\n"
     ]
    },
    {
     "name": "stderr",
     "output_type": "stream",
     "text": [
      "$SHRIRAMCIT.NS: possibly delisted; no timezone found\n"
     ]
    },
    {
     "name": "stdout",
     "output_type": "stream",
     "text": [
      "⚠️ No price data for SHRIRAMCIT.NS\n"
     ]
    },
    {
     "name": "stderr",
     "output_type": "stream",
     "text": [
      "$SHRIRAMCIT.NS: possibly delisted; no timezone found\n",
      "$SHRIRAMCIT.NS: possibly delisted; no timezone found\n",
      "$SHRIRAMCIT.NS: possibly delisted; no timezone found\n",
      "$SHRIRAMCIT.NS: possibly delisted; no timezone found\n"
     ]
    },
    {
     "name": "stdout",
     "output_type": "stream",
     "text": [
      "⚠️ No price data for SHRIRAMCIT.NS\n",
      "⚠️ No price data for SHRIRAMCIT.NS\n",
      "⚠️ No price data for SHRIRAMCIT.NS\n",
      "⚠️ No price data for SHRIRAMCIT.NS\n"
     ]
    },
    {
     "name": "stderr",
     "output_type": "stream",
     "text": [
      "$SHRIRAMCIT.NS: possibly delisted; no timezone found\n",
      "$SHRIRAMCIT.NS: possibly delisted; no timezone found\n"
     ]
    },
    {
     "name": "stdout",
     "output_type": "stream",
     "text": [
      "⚠️ No price data for SHRIRAMCIT.NS\n",
      "⚠️ No price data for SHRIRAMCIT.NS\n"
     ]
    },
    {
     "name": "stderr",
     "output_type": "stream",
     "text": [
      "$SHRIRAMCIT.NS: possibly delisted; no timezone found\n",
      "$SHRIRAMCIT.NS: possibly delisted; no timezone found\n"
     ]
    },
    {
     "name": "stdout",
     "output_type": "stream",
     "text": [
      "⚠️ No price data for SHRIRAMCIT.NS\n",
      "⚠️ No price data for SHRIRAMCIT.NS\n"
     ]
    },
    {
     "name": "stderr",
     "output_type": "stream",
     "text": [
      "$SHRIRAMCIT.NS: possibly delisted; no timezone found\n"
     ]
    },
    {
     "name": "stdout",
     "output_type": "stream",
     "text": [
      "⚠️ No price data for SHRIRAMCIT.NS\n"
     ]
    },
    {
     "name": "stderr",
     "output_type": "stream",
     "text": [
      "$SHRIRAMCIT.NS: possibly delisted; no timezone found\n",
      "$SHRIRAMCIT.NS: possibly delisted; no timezone found\n"
     ]
    },
    {
     "name": "stdout",
     "output_type": "stream",
     "text": [
      "⚠️ No price data for SHRIRAMCIT.NS\n",
      "⚠️ No price data for SHRIRAMCIT.NS\n"
     ]
    },
    {
     "name": "stderr",
     "output_type": "stream",
     "text": [
      "$SHRIRAMCIT.NS: possibly delisted; no timezone found\n",
      "$SHRIRAMCIT.NS: possibly delisted; no timezone found\n"
     ]
    },
    {
     "name": "stdout",
     "output_type": "stream",
     "text": [
      "⚠️ No price data for SHRIRAMCIT.NS\n",
      "⚠️ No price data for SHRIRAMCIT.NS\n"
     ]
    },
    {
     "name": "stderr",
     "output_type": "stream",
     "text": [
      "$SHRIRAMCIT.NS: possibly delisted; no timezone found\n",
      "$SHRIRAMCIT.NS: possibly delisted; no timezone found\n"
     ]
    },
    {
     "name": "stdout",
     "output_type": "stream",
     "text": [
      "⚠️ No price data for SHRIRAMCIT.NS\n",
      "⚠️ No price data for SHRIRAMCIT.NS\n"
     ]
    },
    {
     "name": "stderr",
     "output_type": "stream",
     "text": [
      "$DEEPENR.NS: possibly delisted; no timezone found\n",
      "$DEEPENR.NS: possibly delisted; no timezone found\n",
      "$DEEPENR.NS: possibly delisted; no timezone found\n",
      "$DEEPENR.NS: possibly delisted; no timezone found\n",
      "$DEEPENR.NS: possibly delisted; no timezone found\n"
     ]
    },
    {
     "name": "stdout",
     "output_type": "stream",
     "text": [
      "⚠️ No price data for DEEPENR.NS\n",
      "⚠️ No price data for DEEPENR.NS\n",
      "⚠️ No price data for DEEPENR.NS\n",
      "⚠️ No price data for DEEPENR.NS\n",
      "⚠️ No price data for DEEPENR.NS\n"
     ]
    },
    {
     "name": "stderr",
     "output_type": "stream",
     "text": [
      "$SHRIRAMCIT.NS: possibly delisted; no timezone found\n",
      "$SHRIRAMCIT.NS: possibly delisted; no timezone found\n"
     ]
    },
    {
     "name": "stdout",
     "output_type": "stream",
     "text": [
      "⚠️ No price data for SHRIRAMCIT.NS\n",
      "⚠️ No price data for SHRIRAMCIT.NS\n"
     ]
    },
    {
     "name": "stderr",
     "output_type": "stream",
     "text": [
      "$SHRIRAMCIT.NS: possibly delisted; no timezone found\n",
      "$SHRIRAMCIT.NS: possibly delisted; no timezone found\n",
      "$SHRIRAMCIT.NS: possibly delisted; no timezone found\n"
     ]
    },
    {
     "name": "stdout",
     "output_type": "stream",
     "text": [
      "⚠️ No price data for SHRIRAMCIT.NS\n",
      "⚠️ No price data for SHRIRAMCIT.NS\n",
      "⚠️ No price data for SHRIRAMCIT.NS\n"
     ]
    },
    {
     "name": "stderr",
     "output_type": "stream",
     "text": [
      "$LTI.NS: possibly delisted; no timezone found\n"
     ]
    },
    {
     "name": "stdout",
     "output_type": "stream",
     "text": [
      "⚠️ No price data for LTI.NS\n"
     ]
    },
    {
     "name": "stderr",
     "output_type": "stream",
     "text": [
      "$RBL.NS: possibly delisted; no price data found  (1d 2022-03-11 00:00:00 -> 2022-04-04 00:00:00)\n"
     ]
    },
    {
     "name": "stdout",
     "output_type": "stream",
     "text": [
      "⚠️ No price data for RBL.NS\n"
     ]
    },
    {
     "name": "stderr",
     "output_type": "stream",
     "text": [
      "$RBL.NS: possibly delisted; no price data found  (1d 2022-03-10 00:00:00 -> 2022-04-03 00:00:00)\n"
     ]
    },
    {
     "name": "stdout",
     "output_type": "stream",
     "text": [
      "⚠️ No price data for RBL.NS\n"
     ]
    },
    {
     "name": "stderr",
     "output_type": "stream",
     "text": [
      "$SUPPETRO.NS: possibly delisted; no timezone found\n",
      "$SUPPETRO.NS: possibly delisted; no timezone found\n",
      "$SUPPETRO.NS: possibly delisted; no timezone found\n",
      "$SUPPETRO.NS: possibly delisted; no timezone found\n",
      "$SUPPETRO.NS: possibly delisted; no timezone found\n",
      "$SUPPETRO.NS: possibly delisted; no timezone found\n"
     ]
    },
    {
     "name": "stdout",
     "output_type": "stream",
     "text": [
      "⚠️ No price data for SUPPETRO.NS\n",
      "⚠️ No price data for SUPPETRO.NS\n",
      "⚠️ No price data for SUPPETRO.NS\n",
      "⚠️ No price data for SUPPETRO.NS\n",
      "⚠️ No price data for SUPPETRO.NS\n",
      "⚠️ No price data for SUPPETRO.NS\n"
     ]
    },
    {
     "name": "stderr",
     "output_type": "stream",
     "text": [
      "$SUPPETRO.NS: possibly delisted; no timezone found\n",
      "$SUPPETRO.NS: possibly delisted; no timezone found\n"
     ]
    },
    {
     "name": "stdout",
     "output_type": "stream",
     "text": [
      "⚠️ No price data for SUPPETRO.NS\n",
      "⚠️ No price data for SUPPETRO.NS\n"
     ]
    },
    {
     "name": "stderr",
     "output_type": "stream",
     "text": [
      "$UJJIVAN.NS: possibly delisted; no timezone found\n"
     ]
    },
    {
     "name": "stdout",
     "output_type": "stream",
     "text": [
      "⚠️ No price data for UJJIVAN.NS\n"
     ]
    },
    {
     "name": "stderr",
     "output_type": "stream",
     "text": [
      "$UMIYA-MRO.NS: possibly delisted; no price data found  (1d 2022-02-10 00:00:00 -> 2022-03-06 00:00:00) (Yahoo error = \"Data doesn't exist for startDate = 1644431400, endDate = 1646505000\")\n"
     ]
    },
    {
     "name": "stdout",
     "output_type": "stream",
     "text": [
      "⚠️ No price data for UMIYA-MRO.NS\n"
     ]
    },
    {
     "name": "stderr",
     "output_type": "stream",
     "text": [
      "$MINDTREE.NS: possibly delisted; no timezone found\n"
     ]
    },
    {
     "name": "stdout",
     "output_type": "stream",
     "text": [
      "⚠️ No price data for MINDTREE.NS\n",
      "\n",
      "✅ Backtest complete. Results saved to 'variation_A_results.csv'.\n",
      "\n",
      "📊 Strategy Summary:\n",
      "Total Trades Analyzed: 5324\n",
      "Average Return: 3.31%\n",
      "Win Rate       : 62.19%\n"
     ]
    }
   ],
   "source": [
    "# Load cleaned insider trading dataset\n",
    "df = pd.read_csv(\"nse_insider_cleaned.csv\")\n",
    "\n",
    "# Clean column names\n",
    "df.columns = df.columns.str.strip()\n",
    "\n",
    "# Convert trade_date to datetime\n",
    "df[\"trade_date\"] = pd.to_datetime(df[\"trade_date\"], errors=\"coerce\")\n",
    "df = df.dropna(subset=[\"trade_date\"])\n",
    "\n",
    "# Filter for large Buy trades\n",
    "df = df[(df[\"type\"] == \"Buy\") & (df[\"value\"] > 10_00_000)]\n",
    "\n",
    "# Prepare result list\n",
    "results = []\n",
    "\n",
    "print(f\"🔍 Running backtest on {len(df)} trades...\\n\")\n",
    "\n",
    "for i, row in df.iterrows():\n",
    "    try:\n",
    "        symbol = row[\"symbol\"].strip() + \".NS\"\n",
    "        trade_date = row[\"trade_date\"]\n",
    "        entry_date = trade_date + timedelta(days=1)\n",
    "        # try for a shorter period of 15 days \n",
    "        exit_date = trade_date + timedelta(days=15)\n",
    "\n",
    "        # Download price data from yfinance\n",
    "        ticker = yf.Ticker(symbol)\n",
    "        data = ticker.history(start=entry_date - timedelta(days=5), end=exit_date + timedelta(days=5))\n",
    "\n",
    "        # Skip if no data returned\n",
    "        if data.empty:\n",
    "            print(f\"⚠️ No price data for {symbol}\")\n",
    "            continue\n",
    "\n",
    "        # Ensure datetime index before removing timezone\n",
    "        if isinstance(data.index, DatetimeIndex):\n",
    "            try:\n",
    "                data.index = data.index.tz_localize(None)\n",
    "            except TypeError:\n",
    "                pass\n",
    "        else:\n",
    "            print(f\"⚠️ Skipping {symbol}: price data index not datetime\")\n",
    "            continue\n",
    "\n",
    "        # Find the first valid trading day for entry and exit\n",
    "        entry_row = data[data.index >= entry_date].head(1)\n",
    "        exit_row = data[data.index >= exit_date].head(1)\n",
    "\n",
    "        if entry_row.empty or exit_row.empty:\n",
    "            continue\n",
    "\n",
    "        entry_price = entry_row[\"Close\"].values[0]\n",
    "        exit_price = exit_row[\"Close\"].values[0]\n",
    "        return_pct = ((exit_price - entry_price) / entry_price) * 100\n",
    "\n",
    "        results.append({\n",
    "            \"symbol\": symbol,\n",
    "            \"trade_date\": trade_date.date(),\n",
    "            \"entry_date\": entry_row.index[0].date(),\n",
    "            \"exit_date\": exit_row.index[0].date(),\n",
    "            \"entry_price\": round(entry_price, 2),\n",
    "            \"exit_price\": round(exit_price, 2),\n",
    "            \"return_%\": round(return_pct, 2)\n",
    "        })\n",
    "\n",
    "    except Exception as e:\n",
    "        print(f\"⚠️ Error on row {i} ({row['symbol']}): {e}\")\n",
    "        continue\n",
    "\n",
    "# Convert results to DataFrame\n",
    "results_df = pd.DataFrame(results)\n",
    "\n",
    "# Save results to CSV\n",
    "results_df.to_csv(\"variation_A_15_days_results.csv\", index=False)\n",
    "print(\"\\n✅ Backtest complete. Results saved to 'variation_A_15_days_results.csv'.\")\n",
    "\n",
    "# Summary statistics\n",
    "if not results_df.empty:\n",
    "    avg_return = results_df[\"return_%\"].mean()\n",
    "    win_rate = (results_df[\"return_%\"] > 0).mean() * 100\n",
    "    print(f\"\\n📊 Strategy Summary:\")\n",
    "    print(f\"Total Trades Analyzed: {len(results_df)}\")\n",
    "    print(f\"Average Return: {avg_return:.2f}%\")\n",
    "    print(f\"Win Rate       : {win_rate:.2f}%\")\n",
    "else:\n",
    "    print(\"❌ No valid trades found for backtesting.\")\n"
   ]
  },
  {
   "cell_type": "markdown",
   "id": "9ed01949",
   "metadata": {},
   "source": [
    "# Doing for 90 days"
   ]
  },
  {
   "cell_type": "code",
   "execution_count": 2,
   "id": "e2ec21dc",
   "metadata": {},
   "outputs": [
    {
     "name": "stderr",
     "output_type": "stream",
     "text": [
      "/var/folders/s0/9txpn9vj4gl5nq6jwlhnp3m00000gn/T/ipykernel_21976/129903961.py:8: UserWarning: Could not infer format, so each element will be parsed individually, falling back to `dateutil`. To ensure parsing is consistent and as-expected, please specify a format.\n",
      "  df[\"trade_date\"] = pd.to_datetime(df[\"trade_date\"], errors=\"coerce\")\n"
     ]
    },
    {
     "name": "stdout",
     "output_type": "stream",
     "text": [
      "🔍 Running backtest on 5427 trades...\n",
      "\n"
     ]
    },
    {
     "name": "stderr",
     "output_type": "stream",
     "text": [
      "$ADOR.NS: possibly delisted; no price data found  (1d 2024-12-19 00:00:00 -> 2025-03-28 00:00:00) (Yahoo error = \"Data doesn't exist for startDate = 1734546600, endDate = 1743100200\")\n",
      "$ADOR.NS: possibly delisted; no price data found  (1d 2024-12-19 00:00:00 -> 2025-03-28 00:00:00) (Yahoo error = \"Data doesn't exist for startDate = 1734546600, endDate = 1743100200\")\n"
     ]
    },
    {
     "name": "stdout",
     "output_type": "stream",
     "text": [
      "⚠️ No price data for ADOR.NS\n",
      "⚠️ No price data for ADOR.NS\n"
     ]
    },
    {
     "name": "stderr",
     "output_type": "stream",
     "text": [
      "$ARHAM.NS: possibly delisted; no timezone found\n"
     ]
    },
    {
     "name": "stdout",
     "output_type": "stream",
     "text": [
      "⚠️ No price data for ARHAM.NS\n"
     ]
    },
    {
     "name": "stderr",
     "output_type": "stream",
     "text": [
      "$ASHALOG.NS: possibly delisted; no timezone found\n"
     ]
    },
    {
     "name": "stdout",
     "output_type": "stream",
     "text": [
      "⚠️ No price data for ASHALOG.NS\n"
     ]
    },
    {
     "name": "stderr",
     "output_type": "stream",
     "text": [
      "$USHAFIN.NS: possibly delisted; no timezone found\n",
      "$USHAFIN.NS: possibly delisted; no timezone found\n"
     ]
    },
    {
     "name": "stdout",
     "output_type": "stream",
     "text": [
      "⚠️ No price data for USHAFIN.NS\n",
      "⚠️ No price data for USHAFIN.NS\n"
     ]
    },
    {
     "name": "stderr",
     "output_type": "stream",
     "text": [
      "$DIVYADHAN.NS: possibly delisted; no timezone found\n",
      "$USHAFIN.NS: possibly delisted; no timezone found\n"
     ]
    },
    {
     "name": "stdout",
     "output_type": "stream",
     "text": [
      "⚠️ No price data for DIVYADHAN.NS\n",
      "⚠️ No price data for USHAFIN.NS\n"
     ]
    },
    {
     "name": "stderr",
     "output_type": "stream",
     "text": [
      "$ADOR.NS: possibly delisted; no price data found  (1d 2024-09-26 00:00:00 -> 2025-01-03 00:00:00) (Yahoo error = \"Data doesn't exist for startDate = 1727289000, endDate = 1735842600\")\n",
      "$ADOR.NS: possibly delisted; no price data found  (1d 2024-09-26 00:00:00 -> 2025-01-03 00:00:00) (Yahoo error = \"Data doesn't exist for startDate = 1727289000, endDate = 1735842600\")\n",
      "$ADOR.NS: possibly delisted; no price data found  (1d 2024-09-26 00:00:00 -> 2025-01-03 00:00:00) (Yahoo error = \"Data doesn't exist for startDate = 1727289000, endDate = 1735842600\")\n"
     ]
    },
    {
     "name": "stdout",
     "output_type": "stream",
     "text": [
      "⚠️ No price data for ADOR.NS\n",
      "⚠️ No price data for ADOR.NS\n",
      "⚠️ No price data for ADOR.NS\n"
     ]
    },
    {
     "name": "stderr",
     "output_type": "stream",
     "text": [
      "$EXCELLENT.NS: possibly delisted; no timezone found\n",
      "$EXCELLENT.NS: possibly delisted; no timezone found\n"
     ]
    },
    {
     "name": "stdout",
     "output_type": "stream",
     "text": [
      "⚠️ No price data for EXCELLENT.NS\n",
      "⚠️ No price data for EXCELLENT.NS\n"
     ]
    },
    {
     "name": "stderr",
     "output_type": "stream",
     "text": [
      "$SUNDROP.NS: possibly delisted; no price data found  (1d 2024-09-13 00:00:00 -> 2024-12-21 00:00:00) (Yahoo error = \"Data doesn't exist for startDate = 1726165800, endDate = 1734719400\")\n"
     ]
    },
    {
     "name": "stdout",
     "output_type": "stream",
     "text": [
      "⚠️ No price data for SUNDROP.NS\n"
     ]
    },
    {
     "name": "stderr",
     "output_type": "stream",
     "text": [
      "$ADOR.NS: possibly delisted; no price data found  (1d 2024-06-06 00:00:00 -> 2024-09-13 00:00:00) (Yahoo error = \"Data doesn't exist for startDate = 1717612200, endDate = 1726165800\")\n"
     ]
    },
    {
     "name": "stdout",
     "output_type": "stream",
     "text": [
      "⚠️ No price data for ADOR.NS\n"
     ]
    },
    {
     "name": "stderr",
     "output_type": "stream",
     "text": [
      "$ADOR.NS: possibly delisted; no price data found  (1d 2024-06-03 00:00:00 -> 2024-09-10 00:00:00) (Yahoo error = \"Data doesn't exist for startDate = 1717353000, endDate = 1725906600\")\n"
     ]
    },
    {
     "name": "stdout",
     "output_type": "stream",
     "text": [
      "⚠️ No price data for ADOR.NS\n"
     ]
    },
    {
     "name": "stderr",
     "output_type": "stream",
     "text": [
      "$ALLDIGI.NS: possibly delisted; no price data found  (1d 2024-02-25 00:00:00 -> 2024-06-03 00:00:00) (Yahoo error = \"Data doesn't exist for startDate = 1708799400, endDate = 1717353000\")\n"
     ]
    },
    {
     "name": "stdout",
     "output_type": "stream",
     "text": [
      "⚠️ No price data for ALLDIGI.NS\n"
     ]
    },
    {
     "name": "stderr",
     "output_type": "stream",
     "text": [
      "$ACUTAAS.NS: possibly delisted; no price data found  (1d 2023-12-23 00:00:00 -> 2024-03-31 00:00:00) (Yahoo error = \"Data doesn't exist for startDate = 1703269800, endDate = 1711823400\")\n"
     ]
    },
    {
     "name": "stdout",
     "output_type": "stream",
     "text": [
      "⚠️ No price data for ACUTAAS.NS\n"
     ]
    },
    {
     "name": "stderr",
     "output_type": "stream",
     "text": [
      "$ISMTLTD.NS: possibly delisted; no timezone found\n"
     ]
    },
    {
     "name": "stdout",
     "output_type": "stream",
     "text": [
      "⚠️ No price data for ISMTLTD.NS\n"
     ]
    },
    {
     "name": "stderr",
     "output_type": "stream",
     "text": [
      "$ISMTLTD.NS: possibly delisted; no timezone found\n"
     ]
    },
    {
     "name": "stdout",
     "output_type": "stream",
     "text": [
      "⚠️ No price data for ISMTLTD.NS\n"
     ]
    },
    {
     "name": "stderr",
     "output_type": "stream",
     "text": [
      "$ISMTLTD.NS: possibly delisted; no timezone found\n"
     ]
    },
    {
     "name": "stdout",
     "output_type": "stream",
     "text": [
      "⚠️ No price data for ISMTLTD.NS\n"
     ]
    },
    {
     "name": "stderr",
     "output_type": "stream",
     "text": [
      "$AEGISLOG.NS: possibly delisted; no price data found  (1d 2023-09-23 00:00:00 -> 2023-12-31 00:00:00) (Yahoo error = \"Data doesn't exist for startDate = 1695407400, endDate = 1703961000\")\n",
      "$AEGISLOG.NS: possibly delisted; no price data found  (1d 2023-09-23 00:00:00 -> 2023-12-31 00:00:00) (Yahoo error = \"Data doesn't exist for startDate = 1695407400, endDate = 1703961000\")\n"
     ]
    },
    {
     "name": "stdout",
     "output_type": "stream",
     "text": [
      "⚠️ No price data for AEGISLOG.NS\n",
      "⚠️ No price data for AEGISLOG.NS\n"
     ]
    },
    {
     "name": "stderr",
     "output_type": "stream",
     "text": [
      "$JUBLINDS.NS: possibly delisted; no timezone found\n"
     ]
    },
    {
     "name": "stdout",
     "output_type": "stream",
     "text": [
      "⚠️ No price data for JUBLINDS.NS\n"
     ]
    },
    {
     "name": "stderr",
     "output_type": "stream",
     "text": [
      "$AEGISLOG.NS: possibly delisted; no price data found  (1d 2023-06-19 00:00:00 -> 2023-09-26 00:00:00) (Yahoo error = \"Data doesn't exist for startDate = 1687113000, endDate = 1695666600\")\n"
     ]
    },
    {
     "name": "stdout",
     "output_type": "stream",
     "text": [
      "⚠️ No price data for AEGISLOG.NS\n"
     ]
    },
    {
     "name": "stderr",
     "output_type": "stream",
     "text": [
      "$AEGISLOG.NS: possibly delisted; no price data found  (1d 2023-06-01 00:00:00 -> 2023-09-08 00:00:00) (Yahoo error = \"Data doesn't exist for startDate = 1685557800, endDate = 1694111400\")\n"
     ]
    },
    {
     "name": "stdout",
     "output_type": "stream",
     "text": [
      "⚠️ No price data for AEGISLOG.NS\n"
     ]
    },
    {
     "name": "stderr",
     "output_type": "stream",
     "text": [
      "$EPIGRAL.NS: possibly delisted; no price data found  (1d 2023-03-12 00:00:00 -> 2023-06-19 00:00:00) (Yahoo error = \"Data doesn't exist for startDate = 1678559400, endDate = 1687113000\")\n"
     ]
    },
    {
     "name": "stdout",
     "output_type": "stream",
     "text": [
      "⚠️ No price data for EPIGRAL.NS\n"
     ]
    },
    {
     "name": "stderr",
     "output_type": "stream",
     "text": [
      "$EPIGRAL.NS: possibly delisted; no price data found  (1d 2023-03-11 00:00:00 -> 2023-06-18 00:00:00) (Yahoo error = \"Data doesn't exist for startDate = 1678473000, endDate = 1687026600\")\n"
     ]
    },
    {
     "name": "stdout",
     "output_type": "stream",
     "text": [
      "⚠️ No price data for EPIGRAL.NS\n"
     ]
    },
    {
     "name": "stderr",
     "output_type": "stream",
     "text": [
      "$EPIGRAL.NS: possibly delisted; no price data found  (1d 2023-03-10 00:00:00 -> 2023-06-17 00:00:00) (Yahoo error = \"Data doesn't exist for startDate = 1678386600, endDate = 1686940200\")\n"
     ]
    },
    {
     "name": "stdout",
     "output_type": "stream",
     "text": [
      "⚠️ No price data for EPIGRAL.NS\n"
     ]
    },
    {
     "name": "stderr",
     "output_type": "stream",
     "text": [
      "$EPIGRAL.NS: possibly delisted; no price data found  (1d 2023-02-20 00:00:00 -> 2023-05-30 00:00:00) (Yahoo error = \"Data doesn't exist for startDate = 1676831400, endDate = 1685385000\")\n"
     ]
    },
    {
     "name": "stdout",
     "output_type": "stream",
     "text": [
      "⚠️ No price data for EPIGRAL.NS\n"
     ]
    },
    {
     "name": "stderr",
     "output_type": "stream",
     "text": [
      "$EPIGRAL.NS: possibly delisted; no price data found  (1d 2023-02-24 00:00:00 -> 2023-06-03 00:00:00) (Yahoo error = \"Data doesn't exist for startDate = 1677177000, endDate = 1685730600\")\n"
     ]
    },
    {
     "name": "stdout",
     "output_type": "stream",
     "text": [
      "⚠️ No price data for EPIGRAL.NS\n"
     ]
    },
    {
     "name": "stderr",
     "output_type": "stream",
     "text": [
      "$EPIGRAL.NS: possibly delisted; no price data found  (1d 2023-02-23 00:00:00 -> 2023-06-02 00:00:00) (Yahoo error = \"Data doesn't exist for startDate = 1677090600, endDate = 1685644200\")\n"
     ]
    },
    {
     "name": "stdout",
     "output_type": "stream",
     "text": [
      "⚠️ No price data for EPIGRAL.NS\n"
     ]
    },
    {
     "name": "stderr",
     "output_type": "stream",
     "text": [
      "$EPIGRAL.NS: possibly delisted; no price data found  (1d 2023-02-17 00:00:00 -> 2023-05-27 00:00:00) (Yahoo error = \"Data doesn't exist for startDate = 1676572200, endDate = 1685125800\")\n"
     ]
    },
    {
     "name": "stdout",
     "output_type": "stream",
     "text": [
      "⚠️ No price data for EPIGRAL.NS\n"
     ]
    },
    {
     "name": "stderr",
     "output_type": "stream",
     "text": [
      "$EPIGRAL.NS: possibly delisted; no price data found  (1d 2023-02-12 00:00:00 -> 2023-05-22 00:00:00) (Yahoo error = \"Data doesn't exist for startDate = 1676140200, endDate = 1684693800\")\n"
     ]
    },
    {
     "name": "stdout",
     "output_type": "stream",
     "text": [
      "⚠️ No price data for EPIGRAL.NS\n"
     ]
    },
    {
     "name": "stderr",
     "output_type": "stream",
     "text": [
      "$EPIGRAL.NS: possibly delisted; no price data found  (1d 2023-02-11 00:00:00 -> 2023-05-21 00:00:00) (Yahoo error = \"Data doesn't exist for startDate = 1676053800, endDate = 1684607400\")\n",
      "$EPIGRAL.NS: possibly delisted; no price data found  (1d 2023-02-11 00:00:00 -> 2023-05-21 00:00:00) (Yahoo error = \"Data doesn't exist for startDate = 1676053800, endDate = 1684607400\")\n"
     ]
    },
    {
     "name": "stdout",
     "output_type": "stream",
     "text": [
      "⚠️ No price data for EPIGRAL.NS\n",
      "⚠️ No price data for EPIGRAL.NS\n"
     ]
    },
    {
     "name": "stderr",
     "output_type": "stream",
     "text": [
      "$EPIGRAL.NS: possibly delisted; no price data found  (1d 2023-02-10 00:00:00 -> 2023-05-20 00:00:00) (Yahoo error = \"Data doesn't exist for startDate = 1675967400, endDate = 1684521000\")\n"
     ]
    },
    {
     "name": "stdout",
     "output_type": "stream",
     "text": [
      "⚠️ No price data for EPIGRAL.NS\n"
     ]
    },
    {
     "name": "stderr",
     "output_type": "stream",
     "text": [
      "$EPIGRAL.NS: possibly delisted; no price data found  (1d 2023-01-21 00:00:00 -> 2023-04-30 00:00:00) (Yahoo error = \"Data doesn't exist for startDate = 1674239400, endDate = 1682793000\")\n"
     ]
    },
    {
     "name": "stdout",
     "output_type": "stream",
     "text": [
      "⚠️ No price data for EPIGRAL.NS\n"
     ]
    },
    {
     "name": "stderr",
     "output_type": "stream",
     "text": [
      "$ISMTLTD.NS: possibly delisted; no timezone found\n"
     ]
    },
    {
     "name": "stdout",
     "output_type": "stream",
     "text": [
      "⚠️ No price data for ISMTLTD.NS\n"
     ]
    },
    {
     "name": "stderr",
     "output_type": "stream",
     "text": [
      "$UJJIVAN.NS: possibly delisted; no timezone found\n"
     ]
    },
    {
     "name": "stdout",
     "output_type": "stream",
     "text": [
      "⚠️ No price data for UJJIVAN.NS\n"
     ]
    },
    {
     "name": "stderr",
     "output_type": "stream",
     "text": [
      "$UJJIVAN.NS: possibly delisted; no timezone found\n"
     ]
    },
    {
     "name": "stdout",
     "output_type": "stream",
     "text": [
      "⚠️ No price data for UJJIVAN.NS\n"
     ]
    },
    {
     "name": "stderr",
     "output_type": "stream",
     "text": [
      "$UJJIVAN.NS: possibly delisted; no timezone found\n"
     ]
    },
    {
     "name": "stdout",
     "output_type": "stream",
     "text": [
      "⚠️ No price data for UJJIVAN.NS\n"
     ]
    },
    {
     "name": "stderr",
     "output_type": "stream",
     "text": [
      "$UJJIVAN.NS: possibly delisted; no timezone found\n"
     ]
    },
    {
     "name": "stdout",
     "output_type": "stream",
     "text": [
      "⚠️ No price data for UJJIVAN.NS\n"
     ]
    },
    {
     "name": "stderr",
     "output_type": "stream",
     "text": [
      "$UJJIVAN.NS: possibly delisted; no timezone found\n"
     ]
    },
    {
     "name": "stdout",
     "output_type": "stream",
     "text": [
      "⚠️ No price data for UJJIVAN.NS\n"
     ]
    },
    {
     "name": "stderr",
     "output_type": "stream",
     "text": [
      "$IDFC.NS: possibly delisted; no timezone found\n"
     ]
    },
    {
     "name": "stdout",
     "output_type": "stream",
     "text": [
      "⚠️ No price data for IDFC.NS\n"
     ]
    },
    {
     "name": "stderr",
     "output_type": "stream",
     "text": [
      "$JUBLINDS.NS: possibly delisted; no timezone found\n"
     ]
    },
    {
     "name": "stdout",
     "output_type": "stream",
     "text": [
      "⚠️ No price data for JUBLINDS.NS\n"
     ]
    },
    {
     "name": "stderr",
     "output_type": "stream",
     "text": [
      "$RANEENGINE.NS: possibly delisted; no price data found  (1d 2022-06-12 00:00:00 -> 2022-09-19 00:00:00)\n"
     ]
    },
    {
     "name": "stdout",
     "output_type": "stream",
     "text": [
      "⚠️ No price data for RANEENGINE.NS\n"
     ]
    },
    {
     "name": "stderr",
     "output_type": "stream",
     "text": [
      "$SHRIRAMCIT.NS: possibly delisted; no timezone found\n",
      "$SHRIRAMCIT.NS: possibly delisted; no timezone found\n"
     ]
    },
    {
     "name": "stdout",
     "output_type": "stream",
     "text": [
      "⚠️ No price data for SHRIRAMCIT.NS\n",
      "⚠️ No price data for SHRIRAMCIT.NS\n"
     ]
    },
    {
     "name": "stderr",
     "output_type": "stream",
     "text": [
      "$SHRIRAMCIT.NS: possibly delisted; no timezone found\n",
      "$SHRIRAMCIT.NS: possibly delisted; no timezone found\n"
     ]
    },
    {
     "name": "stdout",
     "output_type": "stream",
     "text": [
      "⚠️ No price data for SHRIRAMCIT.NS\n",
      "⚠️ No price data for SHRIRAMCIT.NS\n"
     ]
    },
    {
     "name": "stderr",
     "output_type": "stream",
     "text": [
      "$RANEENGINE.NS: possibly delisted; no price data found  (1d 2022-06-03 00:00:00 -> 2022-09-10 00:00:00)\n"
     ]
    },
    {
     "name": "stdout",
     "output_type": "stream",
     "text": [
      "⚠️ No price data for RANEENGINE.NS\n"
     ]
    },
    {
     "name": "stderr",
     "output_type": "stream",
     "text": [
      "$SHRIRAMCIT.NS: possibly delisted; no timezone found\n",
      "$SHRIRAMCIT.NS: possibly delisted; no timezone found\n"
     ]
    },
    {
     "name": "stdout",
     "output_type": "stream",
     "text": [
      "⚠️ No price data for SHRIRAMCIT.NS\n",
      "⚠️ No price data for SHRIRAMCIT.NS\n"
     ]
    },
    {
     "name": "stderr",
     "output_type": "stream",
     "text": [
      "$RANEENGINE.NS: possibly delisted; no price data found  (1d 2022-05-29 00:00:00 -> 2022-09-05 00:00:00)\n"
     ]
    },
    {
     "name": "stdout",
     "output_type": "stream",
     "text": [
      "⚠️ No price data for RANEENGINE.NS\n"
     ]
    },
    {
     "name": "stderr",
     "output_type": "stream",
     "text": [
      "$SHRIRAMCIT.NS: possibly delisted; no timezone found\n",
      "$SHRIRAMCIT.NS: possibly delisted; no timezone found\n"
     ]
    },
    {
     "name": "stdout",
     "output_type": "stream",
     "text": [
      "⚠️ No price data for SHRIRAMCIT.NS\n",
      "⚠️ No price data for SHRIRAMCIT.NS\n"
     ]
    },
    {
     "name": "stderr",
     "output_type": "stream",
     "text": [
      "$SHRIRAMCIT.NS: possibly delisted; no timezone found\n",
      "$SHRIRAMCIT.NS: possibly delisted; no timezone found\n"
     ]
    },
    {
     "name": "stdout",
     "output_type": "stream",
     "text": [
      "⚠️ No price data for SHRIRAMCIT.NS\n",
      "⚠️ No price data for SHRIRAMCIT.NS\n"
     ]
    },
    {
     "name": "stderr",
     "output_type": "stream",
     "text": [
      "$SHRIRAMCIT.NS: possibly delisted; no timezone found\n"
     ]
    },
    {
     "name": "stdout",
     "output_type": "stream",
     "text": [
      "⚠️ No price data for SHRIRAMCIT.NS\n"
     ]
    },
    {
     "name": "stderr",
     "output_type": "stream",
     "text": [
      "$SHRIRAMCIT.NS: possibly delisted; no timezone found\n",
      "$SHRIRAMCIT.NS: possibly delisted; no timezone found\n",
      "$SHRIRAMCIT.NS: possibly delisted; no timezone found\n",
      "$SHRIRAMCIT.NS: possibly delisted; no timezone found\n"
     ]
    },
    {
     "name": "stdout",
     "output_type": "stream",
     "text": [
      "⚠️ No price data for SHRIRAMCIT.NS\n",
      "⚠️ No price data for SHRIRAMCIT.NS\n",
      "⚠️ No price data for SHRIRAMCIT.NS\n",
      "⚠️ No price data for SHRIRAMCIT.NS\n"
     ]
    },
    {
     "name": "stderr",
     "output_type": "stream",
     "text": [
      "$SHRIRAMCIT.NS: possibly delisted; no timezone found\n",
      "$SHRIRAMCIT.NS: possibly delisted; no timezone found\n"
     ]
    },
    {
     "name": "stdout",
     "output_type": "stream",
     "text": [
      "⚠️ No price data for SHRIRAMCIT.NS\n",
      "⚠️ No price data for SHRIRAMCIT.NS\n"
     ]
    },
    {
     "name": "stderr",
     "output_type": "stream",
     "text": [
      "$SHRIRAMCIT.NS: possibly delisted; no timezone found\n",
      "$SHRIRAMCIT.NS: possibly delisted; no timezone found\n"
     ]
    },
    {
     "name": "stdout",
     "output_type": "stream",
     "text": [
      "⚠️ No price data for SHRIRAMCIT.NS\n",
      "⚠️ No price data for SHRIRAMCIT.NS\n"
     ]
    },
    {
     "name": "stderr",
     "output_type": "stream",
     "text": [
      "$SHRIRAMCIT.NS: possibly delisted; no timezone found\n"
     ]
    },
    {
     "name": "stdout",
     "output_type": "stream",
     "text": [
      "⚠️ No price data for SHRIRAMCIT.NS\n"
     ]
    },
    {
     "name": "stderr",
     "output_type": "stream",
     "text": [
      "$SHRIRAMCIT.NS: possibly delisted; no timezone found\n",
      "$SHRIRAMCIT.NS: possibly delisted; no timezone found\n"
     ]
    },
    {
     "name": "stdout",
     "output_type": "stream",
     "text": [
      "⚠️ No price data for SHRIRAMCIT.NS\n",
      "⚠️ No price data for SHRIRAMCIT.NS\n"
     ]
    },
    {
     "name": "stderr",
     "output_type": "stream",
     "text": [
      "$SHRIRAMCIT.NS: possibly delisted; no timezone found\n",
      "$SHRIRAMCIT.NS: possibly delisted; no timezone found\n"
     ]
    },
    {
     "name": "stdout",
     "output_type": "stream",
     "text": [
      "⚠️ No price data for SHRIRAMCIT.NS\n",
      "⚠️ No price data for SHRIRAMCIT.NS\n"
     ]
    },
    {
     "name": "stderr",
     "output_type": "stream",
     "text": [
      "$SHRIRAMCIT.NS: possibly delisted; no timezone found\n",
      "$SHRIRAMCIT.NS: possibly delisted; no timezone found\n"
     ]
    },
    {
     "name": "stdout",
     "output_type": "stream",
     "text": [
      "⚠️ No price data for SHRIRAMCIT.NS\n",
      "⚠️ No price data for SHRIRAMCIT.NS\n"
     ]
    },
    {
     "name": "stderr",
     "output_type": "stream",
     "text": [
      "$DEEPENR.NS: possibly delisted; no timezone found\n",
      "$DEEPENR.NS: possibly delisted; no timezone found\n",
      "$DEEPENR.NS: possibly delisted; no timezone found\n",
      "$DEEPENR.NS: possibly delisted; no timezone found\n",
      "$DEEPENR.NS: possibly delisted; no timezone found\n"
     ]
    },
    {
     "name": "stdout",
     "output_type": "stream",
     "text": [
      "⚠️ No price data for DEEPENR.NS\n",
      "⚠️ No price data for DEEPENR.NS\n",
      "⚠️ No price data for DEEPENR.NS\n",
      "⚠️ No price data for DEEPENR.NS\n",
      "⚠️ No price data for DEEPENR.NS\n"
     ]
    },
    {
     "name": "stderr",
     "output_type": "stream",
     "text": [
      "$SHRIRAMCIT.NS: possibly delisted; no timezone found\n",
      "$SHRIRAMCIT.NS: possibly delisted; no timezone found\n"
     ]
    },
    {
     "name": "stdout",
     "output_type": "stream",
     "text": [
      "⚠️ No price data for SHRIRAMCIT.NS\n",
      "⚠️ No price data for SHRIRAMCIT.NS\n"
     ]
    },
    {
     "name": "stderr",
     "output_type": "stream",
     "text": [
      "$SHRIRAMCIT.NS: possibly delisted; no timezone found\n",
      "$SHRIRAMCIT.NS: possibly delisted; no timezone found\n",
      "$SHRIRAMCIT.NS: possibly delisted; no timezone found\n"
     ]
    },
    {
     "name": "stdout",
     "output_type": "stream",
     "text": [
      "⚠️ No price data for SHRIRAMCIT.NS\n",
      "⚠️ No price data for SHRIRAMCIT.NS\n",
      "⚠️ No price data for SHRIRAMCIT.NS\n"
     ]
    },
    {
     "name": "stderr",
     "output_type": "stream",
     "text": [
      "$LTI.NS: possibly delisted; no timezone found\n"
     ]
    },
    {
     "name": "stdout",
     "output_type": "stream",
     "text": [
      "⚠️ No price data for LTI.NS\n"
     ]
    },
    {
     "name": "stderr",
     "output_type": "stream",
     "text": [
      "$RBL.NS: possibly delisted; no price data found  (1d 2022-03-11 00:00:00 -> 2022-06-18 00:00:00)\n"
     ]
    },
    {
     "name": "stdout",
     "output_type": "stream",
     "text": [
      "⚠️ No price data for RBL.NS\n"
     ]
    },
    {
     "name": "stderr",
     "output_type": "stream",
     "text": [
      "$RBL.NS: possibly delisted; no price data found  (1d 2022-03-10 00:00:00 -> 2022-06-17 00:00:00)\n"
     ]
    },
    {
     "name": "stdout",
     "output_type": "stream",
     "text": [
      "⚠️ No price data for RBL.NS\n"
     ]
    },
    {
     "name": "stderr",
     "output_type": "stream",
     "text": [
      "$SUPPETRO.NS: possibly delisted; no timezone found\n",
      "$SUPPETRO.NS: possibly delisted; no timezone found\n",
      "$SUPPETRO.NS: possibly delisted; no timezone found\n",
      "$SUPPETRO.NS: possibly delisted; no timezone found\n",
      "$SUPPETRO.NS: possibly delisted; no timezone found\n",
      "$SUPPETRO.NS: possibly delisted; no timezone found\n"
     ]
    },
    {
     "name": "stdout",
     "output_type": "stream",
     "text": [
      "⚠️ No price data for SUPPETRO.NS\n",
      "⚠️ No price data for SUPPETRO.NS\n",
      "⚠️ No price data for SUPPETRO.NS\n",
      "⚠️ No price data for SUPPETRO.NS\n",
      "⚠️ No price data for SUPPETRO.NS\n",
      "⚠️ No price data for SUPPETRO.NS\n"
     ]
    },
    {
     "name": "stderr",
     "output_type": "stream",
     "text": [
      "$SUPPETRO.NS: possibly delisted; no timezone found\n",
      "$SUPPETRO.NS: possibly delisted; no timezone found\n"
     ]
    },
    {
     "name": "stdout",
     "output_type": "stream",
     "text": [
      "⚠️ No price data for SUPPETRO.NS\n",
      "⚠️ No price data for SUPPETRO.NS\n"
     ]
    },
    {
     "name": "stderr",
     "output_type": "stream",
     "text": [
      "$UJJIVAN.NS: possibly delisted; no timezone found\n"
     ]
    },
    {
     "name": "stdout",
     "output_type": "stream",
     "text": [
      "⚠️ No price data for UJJIVAN.NS\n"
     ]
    },
    {
     "name": "stderr",
     "output_type": "stream",
     "text": [
      "$QUESS.NS: possibly delisted; no price data found  (1d 2022-02-11 00:00:00 -> 2022-05-21 00:00:00)\n"
     ]
    },
    {
     "name": "stdout",
     "output_type": "stream",
     "text": [
      "⚠️ No price data for QUESS.NS\n"
     ]
    },
    {
     "name": "stderr",
     "output_type": "stream",
     "text": [
      "$GULPOLY.NS: possibly delisted; no price data found  (1d 2022-02-10 00:00:00 -> 2022-05-20 00:00:00)\n"
     ]
    },
    {
     "name": "stdout",
     "output_type": "stream",
     "text": [
      "⚠️ No price data for GULPOLY.NS\n"
     ]
    },
    {
     "name": "stderr",
     "output_type": "stream",
     "text": [
      "$GULPOLY.NS: possibly delisted; no price data found  (1d 2022-02-11 00:00:00 -> 2022-05-21 00:00:00)\n"
     ]
    },
    {
     "name": "stdout",
     "output_type": "stream",
     "text": [
      "⚠️ No price data for GULPOLY.NS\n"
     ]
    },
    {
     "name": "stderr",
     "output_type": "stream",
     "text": [
      "$UMIYA-MRO.NS: possibly delisted; no price data found  (1d 2022-02-10 00:00:00 -> 2022-05-20 00:00:00) (Yahoo error = \"Data doesn't exist for startDate = 1644431400, endDate = 1652985000\")\n"
     ]
    },
    {
     "name": "stdout",
     "output_type": "stream",
     "text": [
      "⚠️ No price data for UMIYA-MRO.NS\n"
     ]
    },
    {
     "name": "stderr",
     "output_type": "stream",
     "text": [
      "$MINDTREE.NS: possibly delisted; no timezone found\n"
     ]
    },
    {
     "name": "stdout",
     "output_type": "stream",
     "text": [
      "⚠️ No price data for MINDTREE.NS\n",
      "\n",
      "✅ Backtest complete. Results saved to 'variation_A_90days_results.csv'.\n",
      "\n",
      "📊 Strategy Summary:\n",
      "Total Trades Analyzed: 5324\n",
      "Average Return: 10.78%\n",
      "Win Rate       : 59.77%\n"
     ]
    }
   ],
   "source": [
    "# Load cleaned insider trading dataset\n",
    "df = pd.read_csv(\"nse_insider_cleaned.csv\")\n",
    "\n",
    "# Clean column names\n",
    "df.columns = df.columns.str.strip()\n",
    "\n",
    "# Convert trade_date to datetime\n",
    "df[\"trade_date\"] = pd.to_datetime(df[\"trade_date\"], errors=\"coerce\")\n",
    "df = df.dropna(subset=[\"trade_date\"])\n",
    "\n",
    "# Filter for large Buy trades\n",
    "df = df[(df[\"type\"] == \"Buy\") & (df[\"value\"] > 10_00_000)]\n",
    "\n",
    "# Prepare result list\n",
    "results = []\n",
    "\n",
    "print(f\"🔍 Running backtest on {len(df)} trades...\\n\")\n",
    "\n",
    "for i, row in df.iterrows():\n",
    "    try:\n",
    "        symbol = row[\"symbol\"].strip() + \".NS\"\n",
    "        trade_date = row[\"trade_date\"]\n",
    "        entry_date = trade_date + timedelta(days=1)\n",
    "        # try for a shorter period of 90 days \n",
    "        exit_date = trade_date + timedelta(days=90)\n",
    "\n",
    "        # Download price data from yfinance\n",
    "        ticker = yf.Ticker(symbol)\n",
    "        data = ticker.history(start=entry_date - timedelta(days=5), end=exit_date + timedelta(days=5))\n",
    "\n",
    "        # Skip if no data returned\n",
    "        if data.empty:\n",
    "            print(f\"⚠️ No price data for {symbol}\")\n",
    "            continue\n",
    "\n",
    "        # Ensure datetime index before removing timezone\n",
    "        if isinstance(data.index, DatetimeIndex):\n",
    "            try:\n",
    "                data.index = data.index.tz_localize(None)\n",
    "            except TypeError:\n",
    "                pass\n",
    "        else:\n",
    "            print(f\"⚠️ Skipping {symbol}: price data index not datetime\")\n",
    "            continue\n",
    "\n",
    "        # Find the first valid trading day for entry and exit\n",
    "        entry_row = data[data.index >= entry_date].head(1)\n",
    "        exit_row = data[data.index >= exit_date].head(1)\n",
    "\n",
    "        if entry_row.empty or exit_row.empty:\n",
    "            continue\n",
    "\n",
    "        entry_price = entry_row[\"Close\"].values[0]\n",
    "        exit_price = exit_row[\"Close\"].values[0]\n",
    "        return_pct = ((exit_price - entry_price) / entry_price) * 100\n",
    "\n",
    "        results.append({\n",
    "            \"symbol\": symbol,\n",
    "            \"trade_date\": trade_date.date(),\n",
    "            \"entry_date\": entry_row.index[0].date(),\n",
    "            \"exit_date\": exit_row.index[0].date(),\n",
    "            \"entry_price\": round(entry_price, 2),\n",
    "            \"exit_price\": round(exit_price, 2),\n",
    "            \"return_%\": round(return_pct, 2)\n",
    "        })\n",
    "\n",
    "    except Exception as e:\n",
    "        print(f\"⚠️ Error on row {i} ({row['symbol']}): {e}\")\n",
    "        continue\n",
    "\n",
    "# Convert results to DataFrame\n",
    "results_df = pd.DataFrame(results)\n",
    "\n",
    "# Save results to CSV\n",
    "results_df.to_csv(\"variation_A_90days_results.csv\", index=False)\n",
    "print(\"\\n✅ Backtest complete. Results saved to 'variation_A_90days_results.csv'.\")\n",
    "\n",
    "# Summary statistics\n",
    "if not results_df.empty:\n",
    "    avg_return = results_df[\"return_%\"].mean()\n",
    "    win_rate = (results_df[\"return_%\"] > 0).mean() * 100\n",
    "    print(f\"\\n📊 Strategy Summary:\")\n",
    "    print(f\"Total Trades Analyzed: {len(results_df)}\")\n",
    "    print(f\"Average Return: {avg_return:.2f}%\")\n",
    "    print(f\"Win Rate       : {win_rate:.2f}%\")\n",
    "else:\n",
    "    print(\"❌ No valid trades found for backtesting.\")\n"
   ]
  },
  {
   "cell_type": "code",
   "execution_count": null,
   "id": "ddbbb5ae",
   "metadata": {},
   "outputs": [],
   "source": []
  }
 ],
 "metadata": {
  "kernelspec": {
   "display_name": "Python (myenv)",
   "language": "python",
   "name": "myenv"
  },
  "language_info": {
   "codemirror_mode": {
    "name": "ipython",
    "version": 3
   },
   "file_extension": ".py",
   "mimetype": "text/x-python",
   "name": "python",
   "nbconvert_exporter": "python",
   "pygments_lexer": "ipython3",
   "version": "3.12.2"
  }
 },
 "nbformat": 4,
 "nbformat_minor": 5
}
