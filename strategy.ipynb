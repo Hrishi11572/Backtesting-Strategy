{
 "cells": [
  {
   "cell_type": "markdown",
   "id": "7466fd65",
   "metadata": {},
   "source": [
    "# Implementing a Sample Trading Strategy"
   ]
  },
  {
   "cell_type": "code",
   "execution_count": null,
   "id": "b6e18ded",
   "metadata": {},
   "outputs": [],
   "source": [
    "pip install yfinance"
   ]
  },
  {
   "cell_type": "markdown",
   "id": "59a88ddc",
   "metadata": {},
   "source": []
  },
  {
   "cell_type": "code",
   "execution_count": 2,
   "id": "9b728337",
   "metadata": {},
   "outputs": [],
   "source": [
    "import yfinance as yf \n",
    "\n",
    "# Example: Fetch 1 year of daily price for TCS\n",
    "ticker = yf.Ticker(\"TCS.NS\")\n",
    "data = ticker.history(period=\"1y\")\n"
   ]
  },
  {
   "cell_type": "code",
   "execution_count": 3,
   "id": "36d7754b",
   "metadata": {},
   "outputs": [
    {
     "name": "stdout",
     "output_type": "stream",
     "text": [
      "                                  Open         High          Low        Close  \\\n",
      "Date                                                                            \n",
      "2024-07-16 00:00:00+05:30  4091.950422  4114.067556  4065.370303  4098.276855   \n",
      "2024-07-18 00:00:00+05:30  4080.180398  4242.014476  4080.180398  4232.745605   \n",
      "2024-07-19 00:00:00+05:30  4244.395285  4285.046177  4212.789018  4229.648926   \n",
      "2024-07-22 00:00:00+05:30  4227.241043  4246.902857  4192.881831  4214.854004   \n",
      "2024-07-23 00:00:00+05:30  4210.577198  4287.946623  4194.159392  4229.600098   \n",
      "\n",
      "                            Volume  Dividends  Stock Splits  \n",
      "Date                                                         \n",
      "2024-07-16 00:00:00+05:30  2029521        0.0           0.0  \n",
      "2024-07-18 00:00:00+05:30  5613364        0.0           0.0  \n",
      "2024-07-19 00:00:00+05:30  3903354       10.0           0.0  \n",
      "2024-07-22 00:00:00+05:30  1896386        0.0           0.0  \n",
      "2024-07-23 00:00:00+05:30  2365208        0.0           0.0  \n"
     ]
    }
   ],
   "source": [
    "print(data.head())"
   ]
  },
  {
   "cell_type": "markdown",
   "id": "907f776c",
   "metadata": {},
   "source": [
    "# Backtesting Setup "
   ]
  },
  {
   "cell_type": "markdown",
   "id": "e67cc285",
   "metadata": {},
   "source": [
    "## Strategy:\n",
    "\n",
    "If insider buys ₹10L+ of stock on trade_date,\n",
    "we buy the stock next trading day, hold it for 30 days,\n",
    "then sell and calculate return."
   ]
  },
  {
   "cell_type": "code",
   "execution_count": 4,
   "id": "6f80aa39",
   "metadata": {},
   "outputs": [],
   "source": [
    "# CODE ON ONE ROW \n",
    "\n",
    "import pandas as pd\n",
    "import yfinance as yf \n",
    "from datetime import timedelta"
   ]
  },
  {
   "cell_type": "code",
   "execution_count": null,
   "id": "87784633",
   "metadata": {},
   "outputs": [],
   "source": [
    "df = pd.read_csv('nse_insider_cleaned.csv')\n",
    "\n",
    "# filter only large BUY transactions \n",
    "df = df[(df['type'] == 'Buy') & (df['value'] > 10_00_000)]\n",
    "\n",
    "# Convert trade_date to datetime \n",
    "df['trade_date'] = pd.to_datetime(df['trade_date'], errors='coerce')\n",
    "df = df.dropna(subset = ['trade_date']); \n"
   ]
  },
  {
   "cell_type": "code",
   "execution_count": 9,
   "id": "a75ca2d6",
   "metadata": {},
   "outputs": [
    {
     "name": "stdout",
     "output_type": "stream",
     "text": [
      "📈 Insider trade on: 2024-12-31\n",
      "🟢 Bought ALMONDZ.NS on 2025-01-01 at ₹33.50\n",
      "🔴 Sold ALMONDZ.NS on 2025-01-30 at ₹29.96\n",
      "💰 Return: -10.57%\n"
     ]
    }
   ],
   "source": [
    "# convert the first trade for testing \n",
    "row = df.iloc[0]; \n",
    "symbol = row['symbol'] + \".NS\" \n",
    "entry_date= row['trade_date'] + timedelta(days=1); # buy the next day \n",
    "exit_date = row['trade_date'] + timedelta(days=30); # sell after 30 days \n",
    "\n",
    "# download price data from yahoo finance \n",
    "stock = yf.Ticker(symbol); \n",
    "price_data = stock.history(start=entry_date - timedelta(days=5), end=exit_date + timedelta(days=5)); \n",
    "\n",
    "# After downloading price data\n",
    "price_data = stock.history(start=entry_date - timedelta(days=5), end=exit_date + timedelta(days=5))\n",
    "\n",
    "# Remove timezone from index to fix comparison\n",
    "price_data.index = price_data.index.tz_localize(None)\n",
    "\n",
    "# Now comparisons will work\n",
    "entry_price_row = price_data.loc[price_data.index >= entry_date].head(1)\n",
    "exit_price_row = price_data.loc[price_data.index >= exit_date].head(1)\n",
    "\n",
    "\n",
    "if not entry_price_row.empty and not exit_price_row.empty: \n",
    "    entry_price = entry_price_row['Close'].values[0]; \n",
    "    exit_price = exit_price_row['Close'].values[0]; \n",
    "    \n",
    "    return_pct = ((exit_price - entry_price)/entry_price) * 100; \n",
    "    print(f\"📈 Insider trade on: {row['trade_date'].date()}\")\n",
    "    print(f\"🟢 Bought {symbol} on {entry_price_row.index[0].date()} at ₹{entry_price:.2f}\")\n",
    "    print(f\"🔴 Sold {symbol} on {exit_price_row.index[0].date()} at ₹{exit_price:.2f}\")\n",
    "    print(f\"💰 Return: {return_pct:.2f}%\")\n",
    "else:\n",
    "    print(\"❌ Price data not available for entry or exit date\")"
   ]
  },
  {
   "cell_type": "code",
   "execution_count": null,
   "id": "86d2ec49",
   "metadata": {},
   "outputs": [],
   "source": []
  }
 ],
 "metadata": {
  "kernelspec": {
   "display_name": "Python (myenv)",
   "language": "python",
   "name": "myenv"
  },
  "language_info": {
   "codemirror_mode": {
    "name": "ipython",
    "version": 3
   },
   "file_extension": ".py",
   "mimetype": "text/x-python",
   "name": "python",
   "nbconvert_exporter": "python",
   "pygments_lexer": "ipython3",
   "version": "3.12.2"
  }
 },
 "nbformat": 4,
 "nbformat_minor": 5
}
