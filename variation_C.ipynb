{
 "cells": [
  {
   "cell_type": "markdown",
   "id": "0dc566eb",
   "metadata": {},
   "source": [
    "## Variation C : Insider Type Filter \n",
    "\n",
    "filter only CATEGORY = \"Promoters\" or contains \"Promoter\"\n",
    "\n",
    "Question : Are promoter buys more reliable than employee buys ?"
   ]
  },
  {
   "cell_type": "code",
   "execution_count": 1,
   "id": "e4018106",
   "metadata": {},
   "outputs": [],
   "source": [
    "import pandas as pd \n",
    "import yfinance as yf \n",
    "from datetime import timedelta\n",
    "from pandas import DatetimeIndex"
   ]
  },
  {
   "cell_type": "code",
   "execution_count": 2,
   "id": "9ec60f9e",
   "metadata": {},
   "outputs": [
    {
     "name": "stdout",
     "output_type": "stream",
     "text": [
      "🔍 Running backtest on 3747 trades...\n",
      "\n"
     ]
    },
    {
     "name": "stderr",
     "output_type": "stream",
     "text": [
      "$ADOR.NS: possibly delisted; no price data found  (1d 2024-12-19 00:00:00 -> 2025-01-27 00:00:00) (Yahoo error = \"Data doesn't exist for startDate = 1734546600, endDate = 1737916200\")\n",
      "$ADOR.NS: possibly delisted; no price data found  (1d 2024-12-19 00:00:00 -> 2025-01-27 00:00:00) (Yahoo error = \"Data doesn't exist for startDate = 1734546600, endDate = 1737916200\")\n"
     ]
    },
    {
     "name": "stdout",
     "output_type": "stream",
     "text": [
      "⚠️ No price data for ADOR.NS\n",
      "⚠️ No price data for ADOR.NS\n"
     ]
    },
    {
     "name": "stderr",
     "output_type": "stream",
     "text": [
      "$ARHAM.NS: possibly delisted; no timezone found\n"
     ]
    },
    {
     "name": "stdout",
     "output_type": "stream",
     "text": [
      "⚠️ No price data for ARHAM.NS\n"
     ]
    },
    {
     "name": "stderr",
     "output_type": "stream",
     "text": [
      "$ASHALOG.NS: possibly delisted; no timezone found\n"
     ]
    },
    {
     "name": "stdout",
     "output_type": "stream",
     "text": [
      "⚠️ No price data for ASHALOG.NS\n"
     ]
    },
    {
     "name": "stderr",
     "output_type": "stream",
     "text": [
      "$USHAFIN.NS: possibly delisted; no timezone found\n",
      "$USHAFIN.NS: possibly delisted; no timezone found\n"
     ]
    },
    {
     "name": "stdout",
     "output_type": "stream",
     "text": [
      "⚠️ No price data for USHAFIN.NS\n",
      "⚠️ No price data for USHAFIN.NS\n"
     ]
    },
    {
     "name": "stderr",
     "output_type": "stream",
     "text": [
      "$DIVYADHAN.NS: possibly delisted; no timezone found\n",
      "$USHAFIN.NS: possibly delisted; no timezone found\n"
     ]
    },
    {
     "name": "stdout",
     "output_type": "stream",
     "text": [
      "⚠️ No price data for DIVYADHAN.NS\n",
      "⚠️ No price data for USHAFIN.NS\n"
     ]
    },
    {
     "name": "stderr",
     "output_type": "stream",
     "text": [
      "$ADOR.NS: possibly delisted; no price data found  (1d 2024-09-26 00:00:00 -> 2024-11-04 00:00:00) (Yahoo error = \"Data doesn't exist for startDate = 1727289000, endDate = 1730658600\")\n",
      "$ADOR.NS: possibly delisted; no price data found  (1d 2024-09-26 00:00:00 -> 2024-11-04 00:00:00) (Yahoo error = \"Data doesn't exist for startDate = 1727289000, endDate = 1730658600\")\n",
      "$ADOR.NS: possibly delisted; no price data found  (1d 2024-09-26 00:00:00 -> 2024-11-04 00:00:00) (Yahoo error = \"Data doesn't exist for startDate = 1727289000, endDate = 1730658600\")\n"
     ]
    },
    {
     "name": "stdout",
     "output_type": "stream",
     "text": [
      "⚠️ No price data for ADOR.NS\n",
      "⚠️ No price data for ADOR.NS\n",
      "⚠️ No price data for ADOR.NS\n"
     ]
    },
    {
     "name": "stderr",
     "output_type": "stream",
     "text": [
      "$EXCELLENT.NS: possibly delisted; no timezone found\n",
      "$EXCELLENT.NS: possibly delisted; no timezone found\n"
     ]
    },
    {
     "name": "stdout",
     "output_type": "stream",
     "text": [
      "⚠️ No price data for EXCELLENT.NS\n",
      "⚠️ No price data for EXCELLENT.NS\n"
     ]
    },
    {
     "name": "stderr",
     "output_type": "stream",
     "text": [
      "$ACUTAAS.NS: possibly delisted; no price data found  (1d 2023-12-23 00:00:00 -> 2024-01-31 00:00:00) (Yahoo error = \"Data doesn't exist for startDate = 1703269800, endDate = 1706639400\")\n"
     ]
    },
    {
     "name": "stdout",
     "output_type": "stream",
     "text": [
      "⚠️ No price data for ACUTAAS.NS\n"
     ]
    },
    {
     "name": "stderr",
     "output_type": "stream",
     "text": [
      "$ISMTLTD.NS: possibly delisted; no timezone found\n"
     ]
    },
    {
     "name": "stdout",
     "output_type": "stream",
     "text": [
      "⚠️ No price data for ISMTLTD.NS\n"
     ]
    },
    {
     "name": "stderr",
     "output_type": "stream",
     "text": [
      "$ISMTLTD.NS: possibly delisted; no timezone found\n"
     ]
    },
    {
     "name": "stdout",
     "output_type": "stream",
     "text": [
      "⚠️ No price data for ISMTLTD.NS\n"
     ]
    },
    {
     "name": "stderr",
     "output_type": "stream",
     "text": [
      "$ISMTLTD.NS: possibly delisted; no timezone found\n"
     ]
    },
    {
     "name": "stdout",
     "output_type": "stream",
     "text": [
      "⚠️ No price data for ISMTLTD.NS\n"
     ]
    },
    {
     "name": "stderr",
     "output_type": "stream",
     "text": [
      "$AEGISLOG.NS: possibly delisted; no price data found  (1d 2023-09-23 00:00:00 -> 2023-11-01 00:00:00) (Yahoo error = \"Data doesn't exist for startDate = 1695407400, endDate = 1698777000\")\n",
      "$AEGISLOG.NS: possibly delisted; no price data found  (1d 2023-09-23 00:00:00 -> 2023-11-01 00:00:00) (Yahoo error = \"Data doesn't exist for startDate = 1695407400, endDate = 1698777000\")\n"
     ]
    },
    {
     "name": "stdout",
     "output_type": "stream",
     "text": [
      "⚠️ No price data for AEGISLOG.NS\n",
      "⚠️ No price data for AEGISLOG.NS\n"
     ]
    },
    {
     "name": "stderr",
     "output_type": "stream",
     "text": [
      "$EPIGRAL.NS: possibly delisted; no price data found  (1d 2023-06-01 00:00:00 -> 2023-07-10 00:00:00) (Yahoo error = \"Data doesn't exist for startDate = 1685557800, endDate = 1688927400\")\n"
     ]
    },
    {
     "name": "stdout",
     "output_type": "stream",
     "text": [
      "⚠️ No price data for EPIGRAL.NS\n"
     ]
    },
    {
     "name": "stderr",
     "output_type": "stream",
     "text": [
      "$EPIGRAL.NS: possibly delisted; no price data found  (1d 2023-05-26 00:00:00 -> 2023-07-04 00:00:00) (Yahoo error = \"Data doesn't exist for startDate = 1685039400, endDate = 1688409000\")\n"
     ]
    },
    {
     "name": "stdout",
     "output_type": "stream",
     "text": [
      "⚠️ No price data for EPIGRAL.NS\n"
     ]
    },
    {
     "name": "stderr",
     "output_type": "stream",
     "text": [
      "$EPIGRAL.NS: possibly delisted; no price data found  (1d 2023-03-12 00:00:00 -> 2023-04-20 00:00:00) (Yahoo error = \"Data doesn't exist for startDate = 1678559400, endDate = 1681929000\")\n"
     ]
    },
    {
     "name": "stdout",
     "output_type": "stream",
     "text": [
      "⚠️ No price data for EPIGRAL.NS\n"
     ]
    },
    {
     "name": "stderr",
     "output_type": "stream",
     "text": [
      "$EPIGRAL.NS: possibly delisted; no price data found  (1d 2023-03-11 00:00:00 -> 2023-04-19 00:00:00) (Yahoo error = \"Data doesn't exist for startDate = 1678473000, endDate = 1681842600\")\n"
     ]
    },
    {
     "name": "stdout",
     "output_type": "stream",
     "text": [
      "⚠️ No price data for EPIGRAL.NS\n"
     ]
    },
    {
     "name": "stderr",
     "output_type": "stream",
     "text": [
      "$EPIGRAL.NS: possibly delisted; no price data found  (1d 2023-03-10 00:00:00 -> 2023-04-18 00:00:00) (Yahoo error = \"Data doesn't exist for startDate = 1678386600, endDate = 1681756200\")\n"
     ]
    },
    {
     "name": "stdout",
     "output_type": "stream",
     "text": [
      "⚠️ No price data for EPIGRAL.NS\n"
     ]
    },
    {
     "name": "stderr",
     "output_type": "stream",
     "text": [
      "$EPIGRAL.NS: possibly delisted; no price data found  (1d 2023-02-20 00:00:00 -> 2023-03-31 00:00:00) (Yahoo error = \"Data doesn't exist for startDate = 1676831400, endDate = 1680201000\")\n"
     ]
    },
    {
     "name": "stdout",
     "output_type": "stream",
     "text": [
      "⚠️ No price data for EPIGRAL.NS\n"
     ]
    },
    {
     "name": "stderr",
     "output_type": "stream",
     "text": [
      "$EPIGRAL.NS: possibly delisted; no price data found  (1d 2023-02-24 00:00:00 -> 2023-04-04 00:00:00) (Yahoo error = \"Data doesn't exist for startDate = 1677177000, endDate = 1680546600\")\n"
     ]
    },
    {
     "name": "stdout",
     "output_type": "stream",
     "text": [
      "⚠️ No price data for EPIGRAL.NS\n"
     ]
    },
    {
     "name": "stderr",
     "output_type": "stream",
     "text": [
      "$EPIGRAL.NS: possibly delisted; no price data found  (1d 2023-02-23 00:00:00 -> 2023-04-03 00:00:00) (Yahoo error = \"Data doesn't exist for startDate = 1677090600, endDate = 1680460200\")\n"
     ]
    },
    {
     "name": "stdout",
     "output_type": "stream",
     "text": [
      "⚠️ No price data for EPIGRAL.NS\n"
     ]
    },
    {
     "name": "stderr",
     "output_type": "stream",
     "text": [
      "$EPIGRAL.NS: possibly delisted; no price data found  (1d 2023-02-17 00:00:00 -> 2023-03-28 00:00:00) (Yahoo error = \"Data doesn't exist for startDate = 1676572200, endDate = 1679941800\")\n"
     ]
    },
    {
     "name": "stdout",
     "output_type": "stream",
     "text": [
      "⚠️ No price data for EPIGRAL.NS\n"
     ]
    },
    {
     "name": "stderr",
     "output_type": "stream",
     "text": [
      "$EPIGRAL.NS: possibly delisted; no price data found  (1d 2023-02-12 00:00:00 -> 2023-03-23 00:00:00) (Yahoo error = \"Data doesn't exist for startDate = 1676140200, endDate = 1679509800\")\n"
     ]
    },
    {
     "name": "stdout",
     "output_type": "stream",
     "text": [
      "⚠️ No price data for EPIGRAL.NS\n"
     ]
    },
    {
     "name": "stderr",
     "output_type": "stream",
     "text": [
      "$EPIGRAL.NS: possibly delisted; no price data found  (1d 2023-02-11 00:00:00 -> 2023-03-22 00:00:00) (Yahoo error = \"Data doesn't exist for startDate = 1676053800, endDate = 1679423400\")\n",
      "$EPIGRAL.NS: possibly delisted; no price data found  (1d 2023-02-11 00:00:00 -> 2023-03-22 00:00:00) (Yahoo error = \"Data doesn't exist for startDate = 1676053800, endDate = 1679423400\")\n"
     ]
    },
    {
     "name": "stdout",
     "output_type": "stream",
     "text": [
      "⚠️ No price data for EPIGRAL.NS\n",
      "⚠️ No price data for EPIGRAL.NS\n"
     ]
    },
    {
     "name": "stderr",
     "output_type": "stream",
     "text": [
      "$EPIGRAL.NS: possibly delisted; no price data found  (1d 2023-02-10 00:00:00 -> 2023-03-21 00:00:00) (Yahoo error = \"Data doesn't exist for startDate = 1675967400, endDate = 1679337000\")\n"
     ]
    },
    {
     "name": "stdout",
     "output_type": "stream",
     "text": [
      "⚠️ No price data for EPIGRAL.NS\n"
     ]
    },
    {
     "name": "stderr",
     "output_type": "stream",
     "text": [
      "$EPIGRAL.NS: possibly delisted; no price data found  (1d 2023-01-21 00:00:00 -> 2023-03-01 00:00:00) (Yahoo error = \"Data doesn't exist for startDate = 1674239400, endDate = 1677609000\")\n"
     ]
    },
    {
     "name": "stdout",
     "output_type": "stream",
     "text": [
      "⚠️ No price data for EPIGRAL.NS\n"
     ]
    },
    {
     "name": "stderr",
     "output_type": "stream",
     "text": [
      "$ISMTLTD.NS: possibly delisted; no timezone found\n"
     ]
    },
    {
     "name": "stdout",
     "output_type": "stream",
     "text": [
      "⚠️ No price data for ISMTLTD.NS\n"
     ]
    },
    {
     "name": "stderr",
     "output_type": "stream",
     "text": [
      "$RANEENGINE.NS: possibly delisted; no price data found  (1d 2022-06-12 00:00:00 -> 2022-07-21 00:00:00)\n"
     ]
    },
    {
     "name": "stdout",
     "output_type": "stream",
     "text": [
      "⚠️ No price data for RANEENGINE.NS\n"
     ]
    },
    {
     "name": "stderr",
     "output_type": "stream",
     "text": [
      "$SHRIRAMCIT.NS: possibly delisted; no timezone found\n",
      "$SHRIRAMCIT.NS: possibly delisted; no timezone found\n"
     ]
    },
    {
     "name": "stdout",
     "output_type": "stream",
     "text": [
      "⚠️ No price data for SHRIRAMCIT.NS\n",
      "⚠️ No price data for SHRIRAMCIT.NS\n"
     ]
    },
    {
     "name": "stderr",
     "output_type": "stream",
     "text": [
      "$SHRIRAMCIT.NS: possibly delisted; no timezone found\n",
      "$SHRIRAMCIT.NS: possibly delisted; no timezone found\n"
     ]
    },
    {
     "name": "stdout",
     "output_type": "stream",
     "text": [
      "⚠️ No price data for SHRIRAMCIT.NS\n",
      "⚠️ No price data for SHRIRAMCIT.NS\n"
     ]
    },
    {
     "name": "stderr",
     "output_type": "stream",
     "text": [
      "$RANEENGINE.NS: possibly delisted; no price data found  (1d 2022-06-03 00:00:00 -> 2022-07-12 00:00:00)\n"
     ]
    },
    {
     "name": "stdout",
     "output_type": "stream",
     "text": [
      "⚠️ No price data for RANEENGINE.NS\n"
     ]
    },
    {
     "name": "stderr",
     "output_type": "stream",
     "text": [
      "$SHRIRAMCIT.NS: possibly delisted; no timezone found\n",
      "$SHRIRAMCIT.NS: possibly delisted; no timezone found\n"
     ]
    },
    {
     "name": "stdout",
     "output_type": "stream",
     "text": [
      "⚠️ No price data for SHRIRAMCIT.NS\n",
      "⚠️ No price data for SHRIRAMCIT.NS\n"
     ]
    },
    {
     "name": "stderr",
     "output_type": "stream",
     "text": [
      "$RANEENGINE.NS: possibly delisted; no price data found  (1d 2022-05-29 00:00:00 -> 2022-07-07 00:00:00)\n"
     ]
    },
    {
     "name": "stdout",
     "output_type": "stream",
     "text": [
      "⚠️ No price data for RANEENGINE.NS\n"
     ]
    },
    {
     "name": "stderr",
     "output_type": "stream",
     "text": [
      "$SHRIRAMCIT.NS: possibly delisted; no timezone found\n",
      "$SHRIRAMCIT.NS: possibly delisted; no timezone found\n"
     ]
    },
    {
     "name": "stdout",
     "output_type": "stream",
     "text": [
      "⚠️ No price data for SHRIRAMCIT.NS\n",
      "⚠️ No price data for SHRIRAMCIT.NS\n"
     ]
    },
    {
     "name": "stderr",
     "output_type": "stream",
     "text": [
      "$SHRIRAMCIT.NS: possibly delisted; no timezone found\n",
      "$SHRIRAMCIT.NS: possibly delisted; no timezone found\n"
     ]
    },
    {
     "name": "stdout",
     "output_type": "stream",
     "text": [
      "⚠️ No price data for SHRIRAMCIT.NS\n",
      "⚠️ No price data for SHRIRAMCIT.NS\n"
     ]
    },
    {
     "name": "stderr",
     "output_type": "stream",
     "text": [
      "$SHRIRAMCIT.NS: possibly delisted; no timezone found\n"
     ]
    },
    {
     "name": "stdout",
     "output_type": "stream",
     "text": [
      "⚠️ No price data for SHRIRAMCIT.NS\n"
     ]
    },
    {
     "name": "stderr",
     "output_type": "stream",
     "text": [
      "$SHRIRAMCIT.NS: possibly delisted; no timezone found\n",
      "$SHRIRAMCIT.NS: possibly delisted; no timezone found\n",
      "$SHRIRAMCIT.NS: possibly delisted; no timezone found\n",
      "$SHRIRAMCIT.NS: possibly delisted; no timezone found\n"
     ]
    },
    {
     "name": "stdout",
     "output_type": "stream",
     "text": [
      "⚠️ No price data for SHRIRAMCIT.NS\n",
      "⚠️ No price data for SHRIRAMCIT.NS\n",
      "⚠️ No price data for SHRIRAMCIT.NS\n",
      "⚠️ No price data for SHRIRAMCIT.NS\n"
     ]
    },
    {
     "name": "stderr",
     "output_type": "stream",
     "text": [
      "$SHRIRAMCIT.NS: possibly delisted; no timezone found\n",
      "$SHRIRAMCIT.NS: possibly delisted; no timezone found\n"
     ]
    },
    {
     "name": "stdout",
     "output_type": "stream",
     "text": [
      "⚠️ No price data for SHRIRAMCIT.NS\n",
      "⚠️ No price data for SHRIRAMCIT.NS\n"
     ]
    },
    {
     "name": "stderr",
     "output_type": "stream",
     "text": [
      "$SHRIRAMCIT.NS: possibly delisted; no timezone found\n",
      "$SHRIRAMCIT.NS: possibly delisted; no timezone found\n"
     ]
    },
    {
     "name": "stdout",
     "output_type": "stream",
     "text": [
      "⚠️ No price data for SHRIRAMCIT.NS\n",
      "⚠️ No price data for SHRIRAMCIT.NS\n"
     ]
    },
    {
     "name": "stderr",
     "output_type": "stream",
     "text": [
      "$SHRIRAMCIT.NS: possibly delisted; no timezone found\n"
     ]
    },
    {
     "name": "stdout",
     "output_type": "stream",
     "text": [
      "⚠️ No price data for SHRIRAMCIT.NS\n"
     ]
    },
    {
     "name": "stderr",
     "output_type": "stream",
     "text": [
      "$SHRIRAMCIT.NS: possibly delisted; no timezone found\n",
      "$SHRIRAMCIT.NS: possibly delisted; no timezone found\n"
     ]
    },
    {
     "name": "stdout",
     "output_type": "stream",
     "text": [
      "⚠️ No price data for SHRIRAMCIT.NS\n",
      "⚠️ No price data for SHRIRAMCIT.NS\n"
     ]
    },
    {
     "name": "stderr",
     "output_type": "stream",
     "text": [
      "$SHRIRAMCIT.NS: possibly delisted; no timezone found\n",
      "$SHRIRAMCIT.NS: possibly delisted; no timezone found\n"
     ]
    },
    {
     "name": "stdout",
     "output_type": "stream",
     "text": [
      "⚠️ No price data for SHRIRAMCIT.NS\n",
      "⚠️ No price data for SHRIRAMCIT.NS\n"
     ]
    },
    {
     "name": "stderr",
     "output_type": "stream",
     "text": [
      "$SHRIRAMCIT.NS: possibly delisted; no timezone found\n",
      "$SHRIRAMCIT.NS: possibly delisted; no timezone found\n"
     ]
    },
    {
     "name": "stdout",
     "output_type": "stream",
     "text": [
      "⚠️ No price data for SHRIRAMCIT.NS\n",
      "⚠️ No price data for SHRIRAMCIT.NS\n"
     ]
    },
    {
     "name": "stderr",
     "output_type": "stream",
     "text": [
      "$DEEPENR.NS: possibly delisted; no timezone found\n",
      "$DEEPENR.NS: possibly delisted; no timezone found\n",
      "$DEEPENR.NS: possibly delisted; no timezone found\n",
      "$DEEPENR.NS: possibly delisted; no timezone found\n"
     ]
    },
    {
     "name": "stdout",
     "output_type": "stream",
     "text": [
      "⚠️ No price data for DEEPENR.NS\n",
      "⚠️ No price data for DEEPENR.NS\n",
      "⚠️ No price data for DEEPENR.NS\n",
      "⚠️ No price data for DEEPENR.NS\n"
     ]
    },
    {
     "name": "stderr",
     "output_type": "stream",
     "text": [
      "$SHRIRAMCIT.NS: possibly delisted; no timezone found\n",
      "$SHRIRAMCIT.NS: possibly delisted; no timezone found\n"
     ]
    },
    {
     "name": "stdout",
     "output_type": "stream",
     "text": [
      "⚠️ No price data for SHRIRAMCIT.NS\n",
      "⚠️ No price data for SHRIRAMCIT.NS\n"
     ]
    },
    {
     "name": "stderr",
     "output_type": "stream",
     "text": [
      "$SHRIRAMCIT.NS: possibly delisted; no timezone found\n",
      "$SHRIRAMCIT.NS: possibly delisted; no timezone found\n",
      "$SHRIRAMCIT.NS: possibly delisted; no timezone found\n"
     ]
    },
    {
     "name": "stdout",
     "output_type": "stream",
     "text": [
      "⚠️ No price data for SHRIRAMCIT.NS\n",
      "⚠️ No price data for SHRIRAMCIT.NS\n",
      "⚠️ No price data for SHRIRAMCIT.NS\n"
     ]
    },
    {
     "name": "stderr",
     "output_type": "stream",
     "text": [
      "$RBL.NS: possibly delisted; no price data found  (1d 2022-03-11 00:00:00 -> 2022-04-19 00:00:00)\n"
     ]
    },
    {
     "name": "stdout",
     "output_type": "stream",
     "text": [
      "⚠️ No price data for RBL.NS\n"
     ]
    },
    {
     "name": "stderr",
     "output_type": "stream",
     "text": [
      "$RBL.NS: possibly delisted; no price data found  (1d 2022-03-10 00:00:00 -> 2022-04-18 00:00:00)\n"
     ]
    },
    {
     "name": "stdout",
     "output_type": "stream",
     "text": [
      "⚠️ No price data for RBL.NS\n"
     ]
    },
    {
     "name": "stderr",
     "output_type": "stream",
     "text": [
      "$SUPPETRO.NS: possibly delisted; no timezone found\n",
      "$SUPPETRO.NS: possibly delisted; no timezone found\n",
      "$SUPPETRO.NS: possibly delisted; no timezone found\n",
      "$SUPPETRO.NS: possibly delisted; no timezone found\n",
      "$SUPPETRO.NS: possibly delisted; no timezone found\n",
      "$SUPPETRO.NS: possibly delisted; no timezone found\n"
     ]
    },
    {
     "name": "stdout",
     "output_type": "stream",
     "text": [
      "⚠️ No price data for SUPPETRO.NS\n",
      "⚠️ No price data for SUPPETRO.NS\n",
      "⚠️ No price data for SUPPETRO.NS\n",
      "⚠️ No price data for SUPPETRO.NS\n",
      "⚠️ No price data for SUPPETRO.NS\n",
      "⚠️ No price data for SUPPETRO.NS\n"
     ]
    },
    {
     "name": "stderr",
     "output_type": "stream",
     "text": [
      "$SUPPETRO.NS: possibly delisted; no timezone found\n",
      "$SUPPETRO.NS: possibly delisted; no timezone found\n"
     ]
    },
    {
     "name": "stdout",
     "output_type": "stream",
     "text": [
      "⚠️ No price data for SUPPETRO.NS\n",
      "⚠️ No price data for SUPPETRO.NS\n"
     ]
    },
    {
     "name": "stderr",
     "output_type": "stream",
     "text": [
      "$UMIYA-MRO.NS: possibly delisted; no price data found  (1d 2022-02-10 00:00:00 -> 2022-03-21 00:00:00) (Yahoo error = \"Data doesn't exist for startDate = 1644431400, endDate = 1647801000\")\n"
     ]
    },
    {
     "name": "stdout",
     "output_type": "stream",
     "text": [
      "⚠️ No price data for UMIYA-MRO.NS\n",
      "\n",
      "✅ Backtest complete. Results saved to 'variation_C_results.csv'.\n",
      "\n",
      "📊 Strategy Summary:\n",
      "Total Trades Analyzed: 3664\n",
      "Average Return: 5.54%\n",
      "Win Rate       : 62.55%\n"
     ]
    }
   ],
   "source": [
    "# Load cleaned insider trading dataset\n",
    "df = pd.read_csv(\"nse_insider_cleaned.csv\")\n",
    "\n",
    "# Clean column names\n",
    "df.columns = df.columns.str.strip()\n",
    "\n",
    "# only look for promoter trades \n",
    "df = df[df[\"category\"].str.contains(\"Promoter\", case=False, na=False)]\n",
    "\n",
    "# Convert trade_date to datetime\n",
    "df[\"trade_date\"] = pd.to_datetime(df[\"trade_date\"], errors=\"coerce\")\n",
    "df = df.dropna(subset=[\"trade_date\"])\n",
    "\n",
    "# Filter for large Buy trades\n",
    "df = df[(df[\"type\"] == \"Buy\") & (df[\"value\"] > 10_00_000)]\n",
    "\n",
    "# Prepare result list\n",
    "results = []\n",
    "\n",
    "print(f\"🔍 Running backtest on {len(df)} trades...\\n\")\n",
    "\n",
    "for i, row in df.iterrows():\n",
    "    try:\n",
    "        symbol = row[\"symbol\"].strip() + \".NS\"\n",
    "        trade_date = row[\"trade_date\"]\n",
    "        entry_date = trade_date + timedelta(days=1)\n",
    "        exit_date = trade_date + timedelta(days=30)\n",
    "\n",
    "        # Download price data from yfinance\n",
    "        ticker = yf.Ticker(symbol)\n",
    "        data = ticker.history(start=entry_date - timedelta(days=5), end=exit_date + timedelta(days=5))\n",
    "\n",
    "        # Skip if no data returned\n",
    "        if data.empty:\n",
    "            print(f\"⚠️ No price data for {symbol}\")\n",
    "            continue\n",
    "\n",
    "        # Ensure datetime index before removing timezone\n",
    "        if isinstance(data.index, DatetimeIndex):\n",
    "            try:\n",
    "                data.index = data.index.tz_localize(None)\n",
    "            except TypeError:\n",
    "                pass\n",
    "        else:\n",
    "            print(f\"⚠️ Skipping {symbol}: price data index not datetime\")\n",
    "            continue\n",
    "\n",
    "        # Find the first valid trading day for entry and exit\n",
    "        entry_row = data[data.index >= entry_date].head(1)\n",
    "        exit_row = data[data.index >= exit_date].head(1)\n",
    "\n",
    "        if entry_row.empty or exit_row.empty:\n",
    "            continue\n",
    "\n",
    "        entry_price = entry_row[\"Close\"].values[0]\n",
    "        exit_price = exit_row[\"Close\"].values[0]\n",
    "        return_pct = ((exit_price - entry_price) / entry_price) * 100\n",
    "\n",
    "        results.append({\n",
    "            \"symbol\": symbol,\n",
    "            \"trade_date\": trade_date.date(),\n",
    "            \"entry_date\": entry_row.index[0].date(),\n",
    "            \"exit_date\": exit_row.index[0].date(),\n",
    "            \"entry_price\": round(entry_price, 2),\n",
    "            \"exit_price\": round(exit_price, 2),\n",
    "            \"return_%\": round(return_pct, 2)\n",
    "        })\n",
    "\n",
    "    except Exception as e:\n",
    "        print(f\"⚠️ Error on row {i} ({row['symbol']}): {e}\")\n",
    "        continue\n",
    "\n",
    "# Convert results to DataFrame\n",
    "results_df = pd.DataFrame(results)\n",
    "\n",
    "# Save results to CSV\n",
    "results_df.to_csv(\"variation_C_results.csv\", index=False)\n",
    "print(\"\\n✅ Backtest complete. Results saved to 'variation_C_results.csv'.\")\n",
    "\n",
    "# Summary statistics\n",
    "if not results_df.empty:\n",
    "    avg_return = results_df[\"return_%\"].mean()\n",
    "    win_rate = (results_df[\"return_%\"] > 0).mean() * 100\n",
    "    print(f\"\\n📊 Strategy Summary:\")\n",
    "    print(f\"Total Trades Analyzed: {len(results_df)}\")\n",
    "    print(f\"Average Return: {avg_return:.2f}%\")\n",
    "    print(f\"Win Rate       : {win_rate:.2f}%\")\n",
    "else:\n",
    "    print(\"❌ No valid trades found for backtesting.\")"
   ]
  },
  {
   "cell_type": "code",
   "execution_count": null,
   "id": "fcbb2be0",
   "metadata": {},
   "outputs": [],
   "source": []
  }
 ],
 "metadata": {
  "kernelspec": {
   "display_name": "Python (myenv)",
   "language": "python",
   "name": "myenv"
  },
  "language_info": {
   "codemirror_mode": {
    "name": "ipython",
    "version": 3
   },
   "file_extension": ".py",
   "mimetype": "text/x-python",
   "name": "python",
   "nbconvert_exporter": "python",
   "pygments_lexer": "ipython3",
   "version": "3.12.2"
  }
 },
 "nbformat": 4,
 "nbformat_minor": 5
}
