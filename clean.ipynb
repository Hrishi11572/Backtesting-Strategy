{
 "cells": [
  {
   "cell_type": "markdown",
   "id": "6de1170b",
   "metadata": {},
   "source": [
    "# Cleaning the Insider Trades data obtained from NSE"
   ]
  },
  {
   "cell_type": "code",
   "execution_count": null,
   "id": "49e331c6",
   "metadata": {},
   "outputs": [
    {
     "name": "stdout",
     "output_type": "stream",
     "text": [
      "✅ Cleaned data saved as 'bse_insider_cleaned.csv'\n"
     ]
    }
   ],
   "source": [
    "import pandas as pd\n",
    "\n",
    "df = pd.read_csv(\"nse_insider_raw.csv\")\n",
    "\n",
    "# Fix column names with trailing/leading spaces\n",
    "df.columns = df.columns.str.strip()\n",
    "\n",
    "# Filter useful insider trades\n",
    "df = df[df[\"MODE OF ACQUISITION\"] == \"Market Purchase\"]\n",
    "df = df[df[\"NO. OF SECURITIES (ACQUIRED/DISPLOSED)\"] > 0]\n",
    "\n",
    "# Select only useful columns\n",
    "columns_to_keep = [\n",
    "    \"SYMBOL\",\n",
    "    \"COMPANY\",\n",
    "    \"NAME OF THE ACQUIRER/DISPOSER\",\n",
    "    \"CATEGORY OF PERSON\",\n",
    "    \"NO. OF SECURITIES (ACQUIRED/DISPLOSED)\",\n",
    "    \"VALUE OF SECURITY (ACQUIRED/DISPLOSED)\",\n",
    "    \"ACQUISITION/DISPOSAL TRANSACTION TYPE\",\n",
    "    \"DATE OF ALLOTMENT/ACQUISITION FROM\",\n",
    "    \"MODE OF ACQUISITION\",\n",
    "    \"EXCHANGE\"\n",
    "]\n",
    "\n",
    "df = df[columns_to_keep]\n",
    "\n",
    "# Rename columns for easy reference\n",
    "df.columns = [\"symbol\", \"company\", \"insider_name\", \"category\", \"quantity\", \"value\",\n",
    "              \"type\", \"trade_date\", \"mode\", \"exchange\"]\n",
    "\n",
    "# Save cleaned dataset\n",
    "df.to_csv(\"bse_insider_cleaned.csv\", index=False)\n",
    "print(\"✅ Cleaned data saved as 'bse_insider_cleaned.csv'\")\n"
   ]
  },
  {
   "cell_type": "markdown",
   "id": "baca08c8",
   "metadata": {},
   "source": [
    "# Furthermore Cleaning"
   ]
  },
  {
   "cell_type": "code",
   "execution_count": 5,
   "id": "153ebffd",
   "metadata": {},
   "outputs": [
    {
     "name": "stderr",
     "output_type": "stream",
     "text": [
      "/var/folders/s0/9txpn9vj4gl5nq6jwlhnp3m00000gn/T/ipykernel_17933/404977568.py:7: UserWarning: Could not infer format, so each element will be parsed individually, falling back to `dateutil`. To ensure parsing is consistent and as-expected, please specify a format.\n",
      "  df[\"trade_date\"] = pd.to_datetime(df[\"trade_date\"], errors=\"coerce\")\n"
     ]
    }
   ],
   "source": [
    "df = pd.read_csv(\"bse_insider_cleaned.csv\")\n",
    "\n",
    "# Keep only \"Buy\" transactions \n",
    "df = df[df[\"type\"] == \"Buy\"]\n",
    "\n",
    "# Convert trade_date to datetime\n",
    "df[\"trade_date\"] = pd.to_datetime(df[\"trade_date\"], errors=\"coerce\")\n",
    "df = df.dropna(subset=[\"trade_date\"])\n",
    "\n",
    "# Filter out small trades (Just doing to reduce the data-size)\n",
    "df = df[df[\"value\"] > 1000000]  # 10 lakh threshold\n",
    "\n",
    "#  Drop rows with missing symbol\n",
    "df = df.dropna(subset=[\"symbol\"])"
   ]
  }
 ],
 "metadata": {
  "kernelspec": {
   "display_name": "Python (myenv)",
   "language": "python",
   "name": "myenv"
  },
  "language_info": {
   "codemirror_mode": {
    "name": "ipython",
    "version": 3
   },
   "file_extension": ".py",
   "mimetype": "text/x-python",
   "name": "python",
   "nbconvert_exporter": "python",
   "pygments_lexer": "ipython3",
   "version": "3.12.2"
  }
 },
 "nbformat": 4,
 "nbformat_minor": 5
}
